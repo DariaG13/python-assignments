{
 "cells": [
  {
   "cell_type": "code",
   "execution_count": 4,
   "id": "40e710d6",
   "metadata": {},
   "outputs": [],
   "source": [
    "import math"
   ]
  },
  {
   "cell_type": "code",
   "execution_count": 2,
   "id": "c1ef36b6",
   "metadata": {},
   "outputs": [],
   "source": [
    "# zad 1 a\n",
    "def dzień_juliański(D, M, R):\n",
    "    \n",
    "    a=(14-M)//12\n",
    "    y=R+4800-a\n",
    "    m=M+12*a-3\n",
    "    dzień=D+(153*m+2)//5+365*y+y//4-y//100+y//400-32045\n",
    "    return dzień"
   ]
  },
  {
   "cell_type": "code",
   "execution_count": 3,
   "id": "0f5fcb27",
   "metadata": {},
   "outputs": [
    {
     "data": {
      "text/plain": [
       "2460255"
      ]
     },
     "execution_count": 3,
     "metadata": {},
     "output_type": "execute_result"
    }
   ],
   "source": [
    "dzień_juliański(6,11,2023)"
   ]
  },
  {
   "cell_type": "code",
   "execution_count": 11,
   "id": "404ab071",
   "metadata": {},
   "outputs": [],
   "source": [
    "# zad 1 b\n",
    "def ile_dni(data1, data2):\n",
    "    dzień_juliański1=dzień_juliański(data1[0], data1[1], data1[2])\n",
    "    dzień_juliański2=dzień_juliański(data2[0], data2[1], data2[2])\n",
    "    różnica=dzień_juliański2-dzień_juliański1\n",
    "    return różnica"
   ]
  },
  {
   "cell_type": "code",
   "execution_count": 9,
   "id": "263fe90e",
   "metadata": {},
   "outputs": [
    {
     "data": {
      "text/plain": [
       "True"
      ]
     },
     "execution_count": 9,
     "metadata": {},
     "output_type": "execute_result"
    }
   ],
   "source": [
    "ile_dni((4,11,2021), (6,12,2021))==32"
   ]
  },
  {
   "cell_type": "code",
   "execution_count": 17,
   "id": "bb368fde",
   "metadata": {},
   "outputs": [],
   "source": [
    "# zad 2 a - dowiedzieć się, czy potrzebna jest idiotoodporność\n",
    "def fizz_buzz(x):\n",
    "    if x%3==0 or x%5==0:\n",
    "        napis=\"\"\n",
    "        if x%3==0:\n",
    "            napis+=\" Fizz\"\n",
    "        if x%5==0:\n",
    "            napis+=\" Buzz\"\n",
    "        napis=napis[1:]\n",
    "    else:\n",
    "        napis=str(x)\n",
    "    return napis"
   ]
  },
  {
   "cell_type": "code",
   "execution_count": 22,
   "id": "0cb796dd",
   "metadata": {},
   "outputs": [
    {
     "data": {
      "text/plain": [
       "'28'"
      ]
     },
     "execution_count": 22,
     "metadata": {},
     "output_type": "execute_result"
    }
   ],
   "source": [
    "fizz_buzz(15)\n",
    "fizz_buzz(3)\n",
    "fizz_buzz(25)\n",
    "fizz_buzz(28)"
   ]
  },
  {
   "cell_type": "code",
   "execution_count": 23,
   "id": "ad80acf3",
   "metadata": {},
   "outputs": [
    {
     "name": "stdout",
     "output_type": "stream",
     "text": [
      "['1', '2', 'Fizz', '4', 'Buzz', 'Fizz', '7', '8', 'Fizz', 'Buzz', '11', 'Fizz', '13', '14', 'Fizz Buzz', '16', '17', 'Fizz', '19', 'Buzz', 'Fizz', '22', '23', 'Fizz', 'Buzz', '26', 'Fizz', '28', '29', 'Fizz Buzz', '31', '32', 'Fizz', '34', 'Buzz', 'Fizz', '37', '38', 'Fizz', 'Buzz', '41', 'Fizz', '43', '44', 'Fizz Buzz', '46', '47', 'Fizz', '49', 'Buzz', 'Fizz', '52', '53', 'Fizz', 'Buzz', '56', 'Fizz', '58', '59', 'Fizz Buzz', '61', '62', 'Fizz', '64', 'Buzz', 'Fizz', '67', '68', 'Fizz', 'Buzz', '71', 'Fizz', '73', '74', 'Fizz Buzz', '76', '77', 'Fizz', '79', 'Buzz', 'Fizz', '82', '83', 'Fizz', 'Buzz', '86', 'Fizz', '88', '89', 'Fizz Buzz', '91', '92', 'Fizz', '94', 'Buzz', 'Fizz', '97', '98', 'Fizz', 'Buzz']\n"
     ]
    }
   ],
   "source": [
    "# zad 2a\n",
    "\n",
    "napisy_fizz_buzz=[fizz_buzz(x) for x in range(1,101)]\n",
    "print(napisy_fizz_buzz)"
   ]
  },
  {
   "cell_type": "code",
   "execution_count": 2,
   "id": "0ccad5d1",
   "metadata": {},
   "outputs": [],
   "source": [
    "# zad 3 a\n",
    "def sortuj_punkty(punkty):\n",
    "    # przygotuj listę punktów z odległością\n",
    "    punkty_dist= [(math.sqrt((1/2)*((p[0]-p[1])**2)), p) for p in punkty]\n",
    "    # posortuj punkty w miejscu, bez tworzenia dodatkowej listy\n",
    "    punkty_dist.sort()\n",
    "    # zwróć same punkty bez odległości\n",
    "    return [pd[1] for pd in punkty_dist]"
   ]
  },
  {
   "cell_type": "code",
   "execution_count": 35,
   "id": "1a0cef91",
   "metadata": {},
   "outputs": [],
   "source": [
    "#dalej zad 3 b"
   ]
  },
  {
   "cell_type": "code",
   "execution_count": 30,
   "id": "6b285b38",
   "metadata": {},
   "outputs": [
    {
     "name": "stdout",
     "output_type": "stream",
     "text": [
      "[(3, 3), (5, 4), (8, 20)]\n"
     ]
    }
   ],
   "source": [
    "punkty1=[(3,3), (8,20), (5,4)]\n",
    "wynik1=sortuj_punkty(punkty1)\n",
    "print(wynik1)"
   ]
  },
  {
   "cell_type": "code",
   "execution_count": 31,
   "id": "1dc74a48",
   "metadata": {},
   "outputs": [
    {
     "name": "stdout",
     "output_type": "stream",
     "text": [
      "[(30, 31), (9, 18), (100, 0)]\n"
     ]
    }
   ],
   "source": [
    "punkty2=[(9,18),(100,0),(30,31)]\n",
    "wynik2=sortuj_punkty(punkty2)\n",
    "print(wynik2)"
   ]
  },
  {
   "cell_type": "code",
   "execution_count": 13,
   "id": "f9652a5a",
   "metadata": {},
   "outputs": [
    {
     "name": "stdout",
     "output_type": "stream",
     "text": [
      "[(1, 3), (2, 4), (3, 5), (4, 6), (5, 7), (6, 8), (7, 9), (8, 10), (9, 11), (10, 12), (11, 13), (12, 14), (13, 15), (14, 16), (15, 17), (16, 18), (17, 19), (18, 20), (19, 21), (20, 22)]\n"
     ]
    }
   ],
   "source": [
    "punkty3=[(x,x+2) for x in range(1,21)]\n",
    "wynik3=sortuj_punkty(punkty3)\n",
    "print(wynik3)"
   ]
  },
  {
   "cell_type": "code",
   "execution_count": 11,
   "id": "c727dc22",
   "metadata": {},
   "outputs": [
    {
     "name": "stdout",
     "output_type": "stream",
     "text": [
      "{'Hipolit Hipopotamowicz': {'język polski': [3, 3, 4], 'matematyka': [1, 2, 1, 3, 1], 'wf': [1, 1, 1, 2]}, 'Ala Kotowska': {'język polski': [3, 2, 4], 'matematyka': [1, 2, 1, 3, 5, 6, 6]}}\n"
     ]
    }
   ],
   "source": [
    "#zad 4a\n",
    "klasa1h={\n",
    "    'Hipolit Hipopotamowicz': {\n",
    "        'język polski': [3,3,4],\n",
    "        'matematyka': [1,2,1,3,1],\n",
    "        'wf': [1,1,1,2]\n",
    "    },\n",
    "    'Ala Kotowska': {\n",
    "        'język polski': [3,2,4],\n",
    "        'matematyka': [1,2,1,3,5,6,6]\n",
    "    }\n",
    "}\n",
    "print(klasa1h)"
   ]
  },
  {
   "cell_type": "code",
   "execution_count": 8,
   "id": "e166fd29",
   "metadata": {},
   "outputs": [],
   "source": [
    "def zagrożenia(klasa):\n",
    "    lista_zagrożeń=[]\n",
    "    for n in klasa.items():\n",
    "        zag=[]\n",
    "        for m in n[1].items():\n",
    "            if (sum(m[1])/len(m[1]))<2:\n",
    "                zag.append(m[0])\n",
    "        if len(zag)>0:\n",
    "            lista_zagrożeń.append((n[0], zag))  \n",
    "                                      \n",
    "            #lista_zagrożeń.append(m)\n",
    "        #lista_zagrożeń.append(n)\n",
    "            #if (sum(m[1])/len(m[1]))<2:\n",
    "    lista_zagrożeń=dict(lista_zagrożeń)\n",
    "                \n",
    "    return lista_zagrożeń"
   ]
  },
  {
   "cell_type": "code",
   "execution_count": 12,
   "id": "8addd746",
   "metadata": {},
   "outputs": [
    {
     "data": {
      "text/plain": [
       "{'Hipolit Hipopotamowicz': ['matematyka', 'wf']}"
      ]
     },
     "execution_count": 12,
     "metadata": {},
     "output_type": "execute_result"
    }
   ],
   "source": [
    "zagrożenia(klasa1h)"
   ]
  },
  {
   "cell_type": "code",
   "execution_count": null,
   "id": "62cf6a7c",
   "metadata": {},
   "outputs": [],
   "source": []
  }
 ],
 "metadata": {
  "kernelspec": {
   "display_name": "Python 3 (ipykernel)",
   "language": "python",
   "name": "python3"
  },
  "language_info": {
   "codemirror_mode": {
    "name": "ipython",
    "version": 3
   },
   "file_extension": ".py",
   "mimetype": "text/x-python",
   "name": "python",
   "nbconvert_exporter": "python",
   "pygments_lexer": "ipython3",
   "version": "3.11.5"
  }
 },
 "nbformat": 4,
 "nbformat_minor": 5
}
