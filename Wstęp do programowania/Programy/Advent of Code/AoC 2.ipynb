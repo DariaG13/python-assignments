{
 "cells": [
  {
   "cell_type": "code",
   "execution_count": 31,
   "id": "468a40a0",
   "metadata": {},
   "outputs": [
    {
     "name": "stdout",
     "output_type": "stream",
     "text": [
      "2061\n"
     ]
    }
   ],
   "source": [
    "maxes={'red': 12, 'green': 13, 'blue': 14}\n",
    "\n",
    "with open('day 2 input 1', encoding='utf-8') as f:\n",
    "    #games={}\n",
    "    idssum=0\n",
    "    while linia := f.readline():\n",
    "            lista=linia.split(':')\n",
    "            lista[1]=lista[1].replace('; ', ', ').replace('\\n', '').strip().split(', ')\n",
    "            \n",
    "            reds=0\n",
    "            greens=0\n",
    "            blues=0\n",
    "                \n",
    "            for item in lista[1]:   \n",
    "                if not item.find('red') == -1 and int(item.replace(' red',''))>reds:\n",
    "                    reds=int(item.replace(' red',''))\n",
    "                    \n",
    "                if not item.find('green') == -1 and int(item.replace(' green',''))>greens:\n",
    "                    greens=int(item.replace(' green',''))\n",
    "                    \n",
    "                if not item.find('blue') == -1 and int(item.replace(' blue',''))>blues:\n",
    "                    blues=int(item.replace(' blue',''))\n",
    "            \n",
    "            #print(lista[1])\n",
    "            #print(' '+str(reds)+' '+str(greens)+' '+str(blues))\n",
    "            \n",
    "            if reds<=maxes['red'] and greens<=maxes['green'] and blues<=maxes['blue']:\n",
    "                idssum+=int(lista[0].replace('Game ',''))\n",
    "            \n",
    "            #games[gameid]=lista[1]\n",
    "            #print(lista)\n",
    "    print(idssum)"
   ]
  },
  {
   "cell_type": "code",
   "execution_count": 33,
   "id": "02be3ba4",
   "metadata": {},
   "outputs": [
    {
     "name": "stdout",
     "output_type": "stream",
     "text": [
      "72596\n"
     ]
    }
   ],
   "source": [
    "with open('day 2 input 1', encoding='utf-8') as f:\n",
    "    #games={}\n",
    "    powerssum=0\n",
    "    while linia := f.readline():\n",
    "            lista=linia.split(':')\n",
    "            lista[1]=lista[1].replace('; ', ', ').replace('\\n', '').strip().split(', ')\n",
    "            \n",
    "            reds=0\n",
    "            greens=0\n",
    "            blues=0\n",
    "                \n",
    "            for item in lista[1]:   \n",
    "                if not item.find('red') == -1 and int(item.replace(' red',''))>reds:\n",
    "                    reds=int(item.replace(' red',''))\n",
    "                    \n",
    "                if not item.find('green') == -1 and int(item.replace(' green',''))>greens:\n",
    "                    greens=int(item.replace(' green',''))\n",
    "                    \n",
    "                if not item.find('blue') == -1 and int(item.replace(' blue',''))>blues:\n",
    "                    blues=int(item.replace(' blue',''))\n",
    "                    \n",
    "            powerssum+=reds*greens*blues\n",
    "            \n",
    "            #print(lista[1])\n",
    "            #print(' '+str(reds)+' '+str(greens)+' '+str(blues))\n",
    "            \n",
    "            \n",
    "            \n",
    "            #games[gameid]=lista[1]\n",
    "            #print(lista)\n",
    "    print(powerssum)"
   ]
  },
  {
   "cell_type": "code",
   "execution_count": null,
   "id": "326bf17c",
   "metadata": {},
   "outputs": [],
   "source": []
  }
 ],
 "metadata": {
  "kernelspec": {
   "display_name": "Python 3 (ipykernel)",
   "language": "python",
   "name": "python3"
  },
  "language_info": {
   "codemirror_mode": {
    "name": "ipython",
    "version": 3
   },
   "file_extension": ".py",
   "mimetype": "text/x-python",
   "name": "python",
   "nbconvert_exporter": "python",
   "pygments_lexer": "ipython3",
   "version": "3.11.5"
  }
 },
 "nbformat": 4,
 "nbformat_minor": 5
}
