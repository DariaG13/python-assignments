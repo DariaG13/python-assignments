{
 "cells": [
  {
   "cell_type": "code",
   "execution_count": 18,
   "id": "9a1f4a1a",
   "metadata": {},
   "outputs": [
    {
     "name": "stdout",
     "output_type": "stream",
     "text": [
      "53194\n"
     ]
    }
   ],
   "source": [
    "with open('day 1 input 1', encoding='utf-8') as f:\n",
    "    dwucyfrówki=[]\n",
    "    while linia := f.readline():\n",
    "        liczby=[]\n",
    "        for n in linia:\n",
    "            if n.isdigit():\n",
    "                liczby.append(n)\n",
    "        dwucyfrówki.append(int(str(liczby[0])+str(liczby[-1])))\n",
    "        #print(liczby)\n",
    "    print(sum(dwucyfrówki))"
   ]
  },
  {
   "cell_type": "code",
   "execution_count": 19,
   "id": "93b26fd7",
   "metadata": {},
   "outputs": [
    {
     "name": "stdout",
     "output_type": "stream",
     "text": [
      "54249\n"
     ]
    }
   ],
   "source": [
    "# Trzeba zmienić kod jeszcze tak, żeby po pierwszym zastąpieniu stringa intem lub znalezieniu pierwszego inta\n",
    "# przestało to robić od początku i zaczęło od tyłu\n",
    "\n",
    "numbers={'one': '1', 'two': '2', 'three': '3', 'four': '4', 'five': '5', 'six': '6', 'seven': '7', 'eight': '8', 'nine': '9'}\n",
    "\n",
    "with open('day 1 input 1', encoding='utf-8') as f:\n",
    "    dwucyfrówki=[]\n",
    "    while linia := f.readline():\n",
    "        liczby=[]\n",
    "        str1=\"\"\n",
    "        str2=\"\"\n",
    "        liniareverse=linia[::-1]\n",
    "            \n",
    "        for n in linia:\n",
    "            str1+=n\n",
    "            for key in numbers:\n",
    "                str1=str1.replace(key, numbers[key])\n",
    "                \n",
    "            for m in str1:\n",
    "                if m.isdigit():\n",
    "                    liczby.append(m)\n",
    "                    break\n",
    "            \n",
    "            if len(liczby)==1:\n",
    "                break\n",
    "            \n",
    "        for k in liniareverse:\n",
    "            str2=k+str2\n",
    "            \n",
    "            for key in numbers:\n",
    "                str2=str2.replace(key, numbers[key])\n",
    "                \n",
    "            for j in str2:\n",
    "                if j.isdigit():\n",
    "                    liczby.append(j)\n",
    "                    break\n",
    "            \n",
    "            if len(liczby)==2:\n",
    "                break\n",
    "                     \n",
    "        dwucyfrówki.append(int(str(liczby[0])+str(liczby[-1])))\n",
    "    print(sum(dwucyfrówki))"
   ]
  },
  {
   "cell_type": "markdown",
   "id": "c92982d0",
   "metadata": {},
   "source": []
  },
  {
   "cell_type": "code",
   "execution_count": null,
   "id": "ae7279d9",
   "metadata": {},
   "outputs": [],
   "source": []
  }
 ],
 "metadata": {
  "kernelspec": {
   "display_name": "Python 3 (ipykernel)",
   "language": "python",
   "name": "python3"
  },
  "language_info": {
   "codemirror_mode": {
    "name": "ipython",
    "version": 3
   },
   "file_extension": ".py",
   "mimetype": "text/x-python",
   "name": "python",
   "nbconvert_exporter": "python",
   "pygments_lexer": "ipython3",
   "version": "3.11.5"
  }
 },
 "nbformat": 4,
 "nbformat_minor": 5
}
