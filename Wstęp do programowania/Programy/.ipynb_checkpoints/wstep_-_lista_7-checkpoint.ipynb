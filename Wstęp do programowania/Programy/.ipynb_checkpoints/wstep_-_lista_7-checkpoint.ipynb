{
 "cells": [
  {
   "cell_type": "markdown",
   "id": "9cad27b6",
   "metadata": {},
   "source": [
    "# Wstęp do programowania\n",
    "\n",
    "## Lista 7\n",
    "\n",
    "Uzupełnij swoje dane poniżej, następnie przeczytaj treść zadań i umieść rozwiązania w odpowidenich komórkach pozostawionych w tym celu pod treścią. Pamiętaj dbać o specyfikację, czyli nazwy zmiennych oraz odpowiednie rozmieszczenie komórek. Jeśli uruchomisz wszystkie komórki, dokument powinien działać bez błędów.<br>\n",
    "Możesz (ale nie musisz) korzystać ze wszystkiego, co wiesz, czyli możesz definiować funkcje, używać instrukcji warunkowych itd. itp. "
   ]
  },
  {
   "cell_type": "markdown",
   "id": "0a940a40",
   "metadata": {},
   "source": [
    "  * **Imię:** Daria\n",
    "  * **Nazwisko:** Grzelak\n",
    "  * **Numer indeksu:** 277533"
   ]
  },
  {
   "cell_type": "code",
   "execution_count": 1,
   "id": "e6efadfb",
   "metadata": {},
   "outputs": [],
   "source": [
    "import math"
   ]
  },
  {
   "cell_type": "markdown",
   "id": "9cb4071d",
   "metadata": {},
   "source": [
    "Napisz program, który znajduje wszystkie rzeczywiste rozwiązania równania:\n",
    "$$ax^2+bx+c=0$$\n",
    "zadanego przez zmienne `a`, `b` i `c`. Możesz utworzyć dowolnie wiele zmiennych pomocniczych (pod warunkiem, że będzie ich skończenie wiele)."
   ]
  },
  {
   "cell_type": "code",
   "execution_count": 2,
   "id": "36bb779d",
   "metadata": {},
   "outputs": [],
   "source": [
    "a=1\n",
    "b=2\n",
    "c=1"
   ]
  },
  {
   "cell_type": "markdown",
   "id": "58020a92",
   "metadata": {},
   "source": [
    "Rozwiązanie:"
   ]
  },
  {
   "cell_type": "code",
   "execution_count": 3,
   "id": "a7f38a21",
   "metadata": {},
   "outputs": [
    {
     "name": "stdout",
     "output_type": "stream",
     "text": [
      "Miejsca zerowe to: -1.0 oraz -1.0\n"
     ]
    }
   ],
   "source": [
    "if a!=0:\n",
    "    delta=b**2-4*a*c\n",
    "    if delta>=0:\n",
    "        x1=(-b-math.sqrt(delta))/(2*a)\n",
    "        x2=(-b+math.sqrt(delta))/(2*a)\n",
    "        print('Miejsca zerowe to: ' + str(x1)+' oraz '+str(x2))\n",
    "    else:\n",
    "        print('Brak rzeczywistych miejsc zerowych')\n",
    "else:\n",
    "    print('To jest funkcja liniowa')"
   ]
  },
  {
   "cell_type": "markdown",
   "id": "632c8707",
   "metadata": {},
   "source": [
    "### Zadanie 2\n",
    "\n",
    "Oblicz pole czworokąta o zadanych wierzchołkach, zapisanych w zmiennych `A`, `B`, `C` oraz `D`."
   ]
  },
  {
   "cell_type": "code",
   "execution_count": 4,
   "id": "ea8624a9",
   "metadata": {},
   "outputs": [],
   "source": [
    "A = (0,0)\n",
    "B = (0,3)\n",
    "C = (1,1)\n",
    "D = (4,0)"
   ]
  },
  {
   "cell_type": "markdown",
   "id": "802bbb48",
   "metadata": {},
   "source": [
    "_Rozwiązanie umieść poniżej, po wywołaniu komórki odpowiedź powinna być zapisana w zmiennej `pole`. Możesz utworzyć dowolnie wiele zmiennych pomocniczych._"
   ]
  },
  {
   "cell_type": "code",
   "execution_count": 5,
   "id": "687406f8",
   "metadata": {},
   "outputs": [],
   "source": [
    "#Kod będzie działać przy założeniu, że boki A, B, C, D są wymienione w odpowiedniej kolejności\n",
    "\n",
    "def odległość(a,b):\n",
    "    return math.sqrt((a[0]-b[0])**2+(a[1]-b[1])**2)\n",
    "\n",
    "def pole_trójkąta(a,b,c):\n",
    "    p=(a+b+c)/2\n",
    "    return math.sqrt(p*(p-a)*(p-b)*(p-c))\n",
    "\n",
    "pole = pole_trójkąta(odległość(A,B),odległość(B,C),odległość(A,C))+pole_trójkąta(odległość(C,D),odległość(D,A),odległość(A,C))"
   ]
  },
  {
   "cell_type": "markdown",
   "id": "12211f45",
   "metadata": {},
   "source": [
    "**Odpowiedź:** Pole wynosi"
   ]
  },
  {
   "cell_type": "code",
   "execution_count": 6,
   "id": "7624817c",
   "metadata": {},
   "outputs": [
    {
     "data": {
      "text/plain": [
       "3.5000000000000027"
      ]
     },
     "execution_count": 6,
     "metadata": {},
     "output_type": "execute_result"
    }
   ],
   "source": [
    "pole"
   ]
  },
  {
   "cell_type": "markdown",
   "id": "42290330",
   "metadata": {},
   "source": [
    "### Zadanie 3\n",
    "\n",
    "Wielkanoc jest świętem ruchomym. Jest co najmniej kilka algorytmów pozwalających wyznaczyć datę wielkanocy w danym roku kalendarzowym, jednym z nich jest <a href=\"http://www.algorytm.org/przetwarzanie-dat/wyznaczanie-daty-wielkanocy-metoda-meeusa-jonesa-butchera.html\">algorytm Meeusa/Jonesa/Butchera</a>\n",
    "\n",
    "#### Podpunkt a\n",
    "\n",
    "Oblicz datę wielkanocy w przyszłym roku kalendarzowym"
   ]
  },
  {
   "cell_type": "code",
   "execution_count": 7,
   "id": "e8f0fda9",
   "metadata": {},
   "outputs": [],
   "source": [
    "R1 = 2024"
   ]
  },
  {
   "cell_type": "markdown",
   "id": "264968a5",
   "metadata": {},
   "source": [
    "_Rozwiązanie umieść poniżej, po wywołaniu komórki odpowiedź powinna być zapisana w zmiennej `wielkanoc` (samodzielnie zaproponuj \"typ\" tej zmiennej). Możesz utworzyć dowolnie wiele zmiennych pomocniczych._"
   ]
  },
  {
   "cell_type": "code",
   "execution_count": 8,
   "id": "27273ae1",
   "metadata": {},
   "outputs": [],
   "source": [
    "def Wielkanoc(rok):\n",
    "    a = rok % 19\n",
    "    b = rok // 100\n",
    "    c = rok % 100\n",
    "    d = b // 4\n",
    "    e = b % 4\n",
    "    f = (b + 8) // 25\n",
    "    g = (b - f + 1) // 3\n",
    "    h = (19 * a + b - d - g + 15) % 30\n",
    "    i = c // 4\n",
    "    k = c % 4\n",
    "    l = (32 + 2 * e + 2 * i - h - k) % 7\n",
    "    m = (a + 11 * h + 22 * l) // 451\n",
    "    p = (h + l - 7 * m + 114) % 31\n",
    "    dzień = p + 1\n",
    "    miesiąc = (h + l - 7 * m + 114) // 31\n",
    "    return (dzień, miesiąc)\n",
    "wielkanoc = Wielkanoc(R1)"
   ]
  },
  {
   "cell_type": "markdown",
   "id": "222415a2",
   "metadata": {},
   "source": [
    "Wpisz kod wypisujący całym zdaniem odpowiedź na pytanie, kiedy będzie wielkanoc w zadanym roku:"
   ]
  },
  {
   "cell_type": "code",
   "execution_count": 9,
   "id": "3e5f888a",
   "metadata": {},
   "outputs": [
    {
     "name": "stdout",
     "output_type": "stream",
     "text": [
      "Wielkanoc w roku 2024 będzie 31 marca.\n"
     ]
    }
   ],
   "source": [
    "miesiąc='kwietnia' if wielkanoc[1]==4 else 'marca'\n",
    "print(f'Wielkanoc w roku {R1} będzie {wielkanoc[0]} {miesiąc}.')"
   ]
  },
  {
   "cell_type": "markdown",
   "id": "37a385d7",
   "metadata": {},
   "source": [
    "#### Podpunkt b\n",
    "\n",
    "Sprawdź, w którym roku w bieżącym wieku wielkanoc przypada najpóźniej (w sensie miesiąca i dnia). Najlepiej, gdyby odpowiedź w całości potrafił znaleźć Twój program."
   ]
  },
  {
   "cell_type": "code",
   "execution_count": 10,
   "id": "23ede68b",
   "metadata": {},
   "outputs": [
    {
     "name": "stdout",
     "output_type": "stream",
     "text": [
      "W XXI wieku Wielkanoc najpóźniej wypada w roku 2038. Jest to dzień 25 kwietnia.\n"
     ]
    }
   ],
   "source": [
    "daty_Wielkanocy=[(Wielkanoc(n)[::-1], n) for n in range(2001,2101)]\n",
    "\n",
    "daty_Wielkanocy.sort()\n",
    "\n",
    "miesiąc2='kwietnia' if daty_Wielkanocy[-1][0][0]==4 else 'marca'\n",
    "\n",
    "print(f'W XXI wieku Wielkanoc najpóźniej wypada w roku {daty_Wielkanocy[-1][1]}. Jest to dzień {daty_Wielkanocy[-1][0][1]} {miesiąc2}.')"
   ]
  },
  {
   "cell_type": "markdown",
   "id": "d090e007",
   "metadata": {},
   "source": [
    "### Zadanie 4\n",
    "\n",
    "Godziny wschodu i zachodu słońca dla danej długości i szerokości geograficznej można wyliczyć korzystając ze <a href=\"http://cybermoon.pl/wiedza/algorithms/wschody_slonca2.html\">znanych algorytmów</a>. Napisz program, który wylicza godzinę wschodu i zachodu słońca we Wrocławiu (może być dla ustalenia uwagi godzina dla budynku Wydziału Matematyki) w dniu jego (programu) uruchomienia.<BR><BR>\n",
    "<I>Podpowiedź:</I>"
   ]
  },
  {
   "cell_type": "code",
   "execution_count": 11,
   "id": "0837f90e",
   "metadata": {
    "scrolled": true
   },
   "outputs": [
    {
     "data": {
      "text/plain": [
       "'Dziś jest 9.12.2023'"
      ]
     },
     "execution_count": 11,
     "metadata": {},
     "output_type": "execute_result"
    }
   ],
   "source": [
    "import datetime\n",
    "\n",
    "x = datetime.datetime.now()\n",
    "\"Dziś jest {d}.{m}.{r}\".format(d=x.day,m=x.month,r=x.year)"
   ]
  },
  {
   "cell_type": "markdown",
   "id": "f06f2c6e",
   "metadata": {},
   "source": [
    "Rozwiązanie:"
   ]
  },
  {
   "cell_type": "code",
   "execution_count": 12,
   "id": "5bed4142",
   "metadata": {},
   "outputs": [
    {
     "ename": "NameError",
     "evalue": "name 'PI' is not defined",
     "output_type": "error",
     "traceback": [
      "\u001b[1;31m---------------------------------------------------------------------------\u001b[0m",
      "\u001b[1;31mNameError\u001b[0m                                 Traceback (most recent call last)",
      "Cell \u001b[1;32mIn[12], line 11\u001b[0m\n\u001b[0;32m      8\u001b[0m     n3 \u001b[38;5;241m=\u001b[39m PI\u001b[38;5;241m/\u001b[39m\u001b[38;5;241m180\u001b[39m\n\u001b[0;32m      9\u001b[0m     o3 \u001b[38;5;241m=\u001b[39m \u001b[38;5;241m57.29577951\u001b[39m\n\u001b[1;32m---> 11\u001b[0m wschód_i_zachód(d,m,r,szerokość,długość)\n",
      "Cell \u001b[1;32mIn[12], line 8\u001b[0m, in \u001b[0;36mwschód_i_zachód\u001b[1;34m(d5, d6, d7, szer, dlu)\u001b[0m\n\u001b[0;32m      7\u001b[0m \u001b[38;5;28;01mdef\u001b[39;00m \u001b[38;5;21mwschód_i_zachód\u001b[39m(d5,d6,d7,szer,dlu):\n\u001b[1;32m----> 8\u001b[0m     n3 \u001b[38;5;241m=\u001b[39m PI\u001b[38;5;241m/\u001b[39m\u001b[38;5;241m180\u001b[39m\n\u001b[0;32m      9\u001b[0m     o3 \u001b[38;5;241m=\u001b[39m \u001b[38;5;241m57.29577951\u001b[39m\n",
      "\u001b[1;31mNameError\u001b[0m: name 'PI' is not defined"
     ]
    }
   ],
   "source": [
    "d=x.day\n",
    "m=x.month\n",
    "r=x.year\n",
    "szerokość=51\n",
    "długość=17\n",
    "\n",
    "def wschód_i_zachód(d5,d6,d7,szer,dlu):\n",
    "    n3 = PI/180\n",
    "    o3 = 57.29577951\n",
    "    \n",
    "wschód_i_zachód(d,m,r,szerokość,długość)"
   ]
  },
  {
   "cell_type": "markdown",
   "id": "93cff91d",
   "metadata": {},
   "source": [
    "### Zadanie 5\n",
    "\n",
    "Załóżmy, że zakładamy $n$-letnią lokatę na $p$ procent w skali roku z $m$ kapitalizacjami w ciągu roku. Oznacza to, że po dowolnym spośród $n\\cdot m$ okresów kapitalizacji, zarobimy $\\frac{p}{m}$ procent (bank zaokrągli kwotę w dół do pełnych groszy). Następnie, odliczony zostanie podatek od dochodów kapitałowych (19%). Kwota po odliczeniu podatku zostanie ponownie zaokrąglona do pełnych groszy w dół i doliczona do początkowego kapitału, który będzie „pracował” w kolejnym okresie kapitalizacji.\n",
    "\n",
    "##### Podpunkt a\n",
    "\n",
    "Dla uproszczenia pomińmy chwilowo dwa miejsca, w których zaokrąglamy kwoty w dół do pełnych groszy.\n",
    "\n",
    "Ile procent początkowej kwoty zarobi każda z poniższych lokat?\n",
    "\n",
    "  * dwuletnia na 2.3% w skali roku z rocznym okresem kapitalizacji,"
   ]
  },
  {
   "cell_type": "code",
   "execution_count": null,
   "id": "abc85be0",
   "metadata": {},
   "outputs": [],
   "source": [
    "n1 = 2\n",
    "p1 = 0.023\n",
    "m1 = 1\n",
    "\n",
    "procent1 = ((1+((p1/m1)*(1-0.19)))**(n1*m1))-1\n",
    "\n",
    "procent1*100"
   ]
  },
  {
   "cell_type": "markdown",
   "id": "481b28f4",
   "metadata": {},
   "source": [
    "   * dwuletnia na 2.25% w skali roku z półrocznym okresem kapitalizacji,\n"
   ]
  },
  {
   "cell_type": "code",
   "execution_count": null,
   "id": "de41d409",
   "metadata": {},
   "outputs": [],
   "source": [
    "n2 = 2\n",
    "p2 = 0.0225\n",
    "m2 = 2\n",
    "\n",
    "procent2 = ((1+((p2/m2)*(1-0.19)))**(n2*m2))-1\n",
    "\n",
    "procent2*100"
   ]
  },
  {
   "cell_type": "markdown",
   "id": "a37aaf15",
   "metadata": {},
   "source": [
    "  * dwuletnia na 2.2% w skali roku z kwartalnym okresem kapitalizacji,"
   ]
  },
  {
   "cell_type": "code",
   "execution_count": null,
   "id": "a236d742",
   "metadata": {},
   "outputs": [],
   "source": [
    "n3 = 2\n",
    "p3 = 0.022\n",
    "m3 = 4\n",
    "\n",
    "procent3 = ((1+((p3/m3)*(1-0.19)))**(n3*m3))-1\n",
    "\n",
    "procent3*100"
   ]
  },
  {
   "cell_type": "markdown",
   "id": "fe55d17e",
   "metadata": {},
   "source": [
    "  * dwuletnia na 2.15% w skali roku z dziennym okresem kapitalizacji (zakładamy, że lokata trwa dwa razy po 365 dni)."
   ]
  },
  {
   "cell_type": "code",
   "execution_count": null,
   "id": "49b45b9b",
   "metadata": {},
   "outputs": [],
   "source": [
    "n4 = 2\n",
    "p4 = 0.0215\n",
    "m4 = 365\n",
    "\n",
    "procent4 = ((1+((p4/m4)*(1-0.19)))**(n4*m4))-1\n",
    "\n",
    "procent4*100"
   ]
  },
  {
   "cell_type": "markdown",
   "id": "821868d5",
   "metadata": {},
   "source": [
    "#### Podpunkt b\n",
    "\n",
    "Tym razem nie pomijamy zaokrągleń w dół do pełnych groszy. Na lokatę wpłacamy 1000,00PLN. Ile złotych (i groszy) zarobią następujące lokaty?\n",
    "\n",
    "  * dwuletnia na 2.3% w skali roku z rocznym okresem kapitalizacji,"
   ]
  },
  {
   "cell_type": "code",
   "execution_count": null,
   "id": "5e178d24",
   "metadata": {},
   "outputs": [],
   "source": [
    "n5 = 2\n",
    "p5 = 0.023\n",
    "m5 = 1\n",
    "kwota5 = 1000\n",
    "\n",
    "grosze5 = kwota5 * 100\n",
    "i = 1\n",
    "\n",
    "while i<=n5*m5:\n",
    "    procent5=(grosze5*(p5/m5))//1\n",
    "    procentminuspodatek5=(procent5*(1-0.19))//1\n",
    "    procentminuspodatek5\n",
    "    grosze5=grosze5+procentminuspodatek5\n",
    "    i=i+1\n",
    "\n",
    "kwotafinalna5=grosze5/100\n",
    "\n",
    "zysk5 = round(kwotafinalna5-kwota5, 2)\n",
    "zysk5"
   ]
  },
  {
   "cell_type": "markdown",
   "id": "ca7c208d",
   "metadata": {},
   "source": [
    "  *  dwuletnia na 2.25% w skali roku z półrocznym okresem kapitalizacji."
   ]
  },
  {
   "cell_type": "code",
   "execution_count": null,
   "id": "859bdabd",
   "metadata": {},
   "outputs": [],
   "source": [
    "n6 = 2\n",
    "p6 = 0.0225\n",
    "m6 = 2\n",
    "kwota6 = 1000\n",
    "\n",
    "grosze6 = kwota6 * 100\n",
    "j = 1\n",
    "\n",
    "while j<=n6*m6:\n",
    "    procent6=(grosze6*(p6/m6))//1\n",
    "    procentminuspodatek6=(procent6*(1-0.19))//1\n",
    "    procentminuspodatek6\n",
    "    grosze6=grosze6+procentminuspodatek6\n",
    "    j=j+1\n",
    "\n",
    "kwotafinalna6=grosze6/100\n",
    "\n",
    "zysk6 = round(kwotafinalna6-kwota6, 2)\n",
    "zysk6"
   ]
  },
  {
   "cell_type": "markdown",
   "id": "baf0ad52",
   "metadata": {},
   "source": [
    "<div style=\"text-align: right\"> Powodzenia!<br><i>Zespół kursu Wstęp do programowania</i></div>"
   ]
  }
 ],
 "metadata": {
  "kernelspec": {
   "display_name": "Python 3 (ipykernel)",
   "language": "python",
   "name": "python3"
  },
  "language_info": {
   "codemirror_mode": {
    "name": "ipython",
    "version": 3
   },
   "file_extension": ".py",
   "mimetype": "text/x-python",
   "name": "python",
   "nbconvert_exporter": "python",
   "pygments_lexer": "ipython3",
   "version": "3.11.5"
  }
 },
 "nbformat": 4,
 "nbformat_minor": 5
}
