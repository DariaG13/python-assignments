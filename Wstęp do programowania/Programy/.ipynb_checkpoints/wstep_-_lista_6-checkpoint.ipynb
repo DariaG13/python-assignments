{
 "cells": [
  {
   "cell_type": "markdown",
   "id": "817cd8f2",
   "metadata": {},
   "source": [
    "# Wstęp do programowania\n",
    "## Lista 6\n",
    "\n",
    "Uzupełnij swoje dane poniżej, następnie przeczytaj treść zadań i umieść rozwiązania w odpowidenich komórkach pozostawionych w tym celu pod treścią. Pamiętaj dbać o specyfikację, czyli nazwy zmiennych oraz odpowiednie rozmieszczenie komórek. Jeśli uruchomisz wszystkie komórki, dokument powinien działać bez błędów."
   ]
  },
  {
   "cell_type": "markdown",
   "id": "76926f19",
   "metadata": {},
   "source": [
    "  * **Imię:** Daria\n",
    "  * **Nazwisko:** Grzelak\n",
    "  * **Numer indeksu:** 277533"
   ]
  },
  {
   "cell_type": "markdown",
   "id": "f179d9a1",
   "metadata": {},
   "source": [
    "W rozwiązaniach zadań możesz korzystać z wielu bibliotek. Do obliczeń `math`, `numpy` oraz `sympy`. Do wizualizacji `matplotlib.pyplot` oraz `ipywidgets`. Testy możesz wykonywać za pomocą modułów `unittest` oraz `doctest`."
   ]
  },
  {
   "cell_type": "code",
   "execution_count": 1,
   "id": "2ceefa09",
   "metadata": {},
   "outputs": [],
   "source": [
    "import math\n",
    "import unittest\n",
    "import doctest\n",
    "import numpy as np\n",
    "import sympy as sp\n",
    "import matplotlib.pyplot as plt\n",
    "from ipywidgets import interact\n",
    "from hypothesis import given, strategies as st"
   ]
  },
  {
   "cell_type": "markdown",
   "id": "1a39d3f3",
   "metadata": {},
   "source": [
    "### Zadanie 1\n",
    "\n",
    "Przypomnij sobie zadanie o spirali archimedejskiej (zadanie 2 z listy 5).\n",
    "\n",
    "Spróbuj stworzyć interaktywny interfejs do wizualizacji tego, jak wybrane parametry wpływają na kształt spirali.\n",
    "\n",
    "Rozwiązanie umieść w komórce poniżej."
   ]
  },
  {
   "cell_type": "code",
   "execution_count": 8,
   "id": "4076f649",
   "metadata": {},
   "outputs": [
    {
     "data": {
      "application/vnd.jupyter.widget-view+json": {
       "model_id": "a1632350edcd4d30aba1d6d8e1d69629",
       "version_major": 2,
       "version_minor": 0
      },
      "text/plain": [
       "interactive(children=(FloatSlider(value=1.0, description='a', max=6.0, min=1.0), FloatSlider(value=1.0, descri…"
      ]
     },
     "metadata": {},
     "output_type": "display_data"
    }
   ],
   "source": [
    "@np.vectorize\n",
    "def arch(x, n=1, a=1):\n",
    "    return a*((x)**(1/n))\n",
    "\n",
    "@interact(a=(1.0, 6.0), b=(0.0, 5.0))\n",
    "def rysuj(a=1, b=1):\n",
    "    theta = np.linspace(0, 10*math.pi, 1000)\n",
    "    r = arch(theta, a, b)\n",
    "    wykres = plt.subplot(1,1,1, projection='polar')\n",
    "    wykres.plot(theta, r, color='r', linewidth=2)\n",
    "    wykres.set_rmax(30)\n",
    "    wykres.grid(True)\n",
    "    plt.show()"
   ]
  },
  {
   "cell_type": "markdown",
   "id": "c9490bc8",
   "metadata": {},
   "source": [
    "### Zadanie 2\n",
    "\n",
    "Zaprojektuj testy jednostkowe sprawdzające, że funkcja `max` z Pythona działa dobrze dla list liczb całkowitych i zmiennoprzecinkowych bez `NaN`. Napisz przynajmniej 3 testy za pomocą modułu `unittest`. Kod testów umieść w komórce poniżej."
   ]
  },
  {
   "cell_type": "code",
   "execution_count": 3,
   "id": "eb82466d-97e1-4703-b86a-9c6d56f88988",
   "metadata": {},
   "outputs": [],
   "source": [
    "liczba=st.one_of([st.integers(), st.floats(allow_nan=False)])\n",
    "\n",
    "@unittest.FunctionTestCase\n",
    "@given(liczba, liczba, liczba)\n",
    "def maksimum_dla_trzech(a,b,c):\n",
    "    if a>=b and a>=c:\n",
    "        assert max([a,b,c])==a\n",
    "    elif b>=a and b>=c:\n",
    "        assert max([a,b,c])==b\n",
    "    else:\n",
    "        assert max([a,b,c])==c\n",
    "        \n",
    "@unittest.FunctionTestCase\n",
    "@given(liczba, liczba, liczba)\n",
    "def maksimum_przemienne(a,b,c):\n",
    "    assert max([a,b,c])==max([a,c,b])==max([b,a,c])==max([b,c,a])==max([c,a,b])==max([c,b,a])\n",
    "    \n",
    "@unittest.FunctionTestCase\n",
    "@given(liczba, liczba,liczba)\n",
    "def łączność_maksimum(a,b,c):\n",
    "    assert max([a,b,c])==max([a,max([b,c])])==max([max([a,b]), c])"
   ]
  },
  {
   "cell_type": "markdown",
   "id": "0793e0ae-cd83-44d6-bc01-72da6dbcd0ce",
   "metadata": {},
   "source": [
    "Uruchomienie testów umieść w komórce poniżej."
   ]
  },
  {
   "cell_type": "code",
   "execution_count": 4,
   "id": "4e8cd72f-46e7-4508-92d2-c0ddd03fef5e",
   "metadata": {},
   "outputs": [
    {
     "name": "stderr",
     "output_type": "stream",
     "text": [
      "...\n",
      "----------------------------------------------------------------------\n",
      "Ran 3 tests in 0.493s\n",
      "\n",
      "OK\n"
     ]
    }
   ],
   "source": [
    "suite = unittest.TestSuite()\n",
    "suite.addTest(maksimum_dla_trzech)\n",
    "suite.addTest(maksimum_przemienne)\n",
    "suite.addTest(łączność_maksimum)\n",
    "assert unittest.TextTestRunner().run(suite)"
   ]
  },
  {
   "cell_type": "markdown",
   "id": "3c1b52a8",
   "metadata": {},
   "source": [
    "### Zadanie 3\n",
    "\n",
    "Przypomnij sobie zadanie o funkcjach do liczenia liczby dni pomiędzy datami (zadanie 1 lista 4). Rozbuduj funkcje `ile_dni` oraz `dzień_juliański` tak, aby zgłaszały odpowiednie wyjątki, gdy użytkownik ich źle użyje.\n",
    "\n",
    "Kod umieść w komórce poniżej."
   ]
  },
  {
   "cell_type": "code",
   "execution_count": 5,
   "id": "f4281b8c",
   "metadata": {},
   "outputs": [],
   "source": [
    "# Definicja funkcji\n",
    "def dzień_juliański(D, M, R):\n",
    "    if type(D) is not int:\n",
    "        raise TypeError('Dzień musi być liczbą całkowitą!')\n",
    "    if type(M) is not int:\n",
    "        raise TypeError('Miesiąc musi być liczbą całkowitą!')\n",
    "    if type(R) is not int:\n",
    "        raise TypeError('Rok musi być liczbą całkowitą!')\n",
    "    if D<1 or D>31:\n",
    "        raise ValueError('Dzień musi być liczbą od 1 do 31!')\n",
    "    if M<1 or M>12:\n",
    "        raise ValueError('Miesiąc musi być liczbą od 1 do 12!')\n",
    "    if R<0:\n",
    "        raise ValueError('Program działa dla lat dodatnich!')\n",
    "    # Implementacja wzoru z listy 1\n",
    "    a=(14-M)//12\n",
    "    y=R+4800-a\n",
    "    m=M+12*a-3\n",
    "    dzień=D+(153*m+2)//5+365*y+y//4-y//100+y//400-32045\n",
    "    return dzień\n",
    "\n",
    "def ile_dni(data1, data2):\n",
    "    if type(data1) is not tuple:\n",
    "        raise TypeError('Data musi zostać podana jako krotka z liczbami!')\n",
    "    if type(data2) is not tuple:\n",
    "        raise TypeError('Data musi zostać podana jako krotka z liczbami!')\n",
    "    if not len(data1)==3:\n",
    "        raise ValueError('Krotki muszą mieć 3 elementy określające dzień, miesiąc i rok')\n",
    "    if not len(data2)==3:\n",
    "        raise ValueError('Krotki muszą mieć 3 elementy określające dzień, miesiąc i rok')\n",
    "    dzień_juliański1=dzień_juliański(data1[0], data1[1], data1[2]) # Obliczenie dnia juliańskiego dla pierwszej daty\n",
    "    dzień_juliański2=dzień_juliański(data2[0], data2[1], data2[2]) # Obliczenie dnia juliańskiego dla drugiej daty\n",
    "    różnica=abs(dzień_juliański2-dzień_juliański1) # Odjęcie dni od siebie, dzięki użyciu funkcji abs zwraca wartość bezwzględną, więc kolejność dat nie ma znaczenia\n",
    "    return różnica"
   ]
  },
  {
   "cell_type": "markdown",
   "id": "73e32195",
   "metadata": {},
   "source": [
    "### Zadanie 4\n",
    "\n",
    "Przypomnij sobie funkcję do wyliczania objętości hiperkuli (zadanie 5 lista 4). Dodaj do niej dokumentację opisującą użycie funkcji oraz przykładowe testy, które sprawdzisz modułem `doctest`.\n",
    "\n",
    "Rozwiązanie umieść w komórce poniżej."
   ]
  },
  {
   "cell_type": "code",
   "execution_count": 9,
   "id": "9f2e7d0a",
   "metadata": {},
   "outputs": [],
   "source": [
    "def hiperkula(r, n):\n",
    "    \"\"\"Funkcja obliczająca objętość hiperkuli o promieniu r>0 i środku S(0, …, 0) ∈ ℝ^n.\n",
    "    \n",
    "    W funkcji należy podać dodatnią liczbę wymiarów oraz dodatni promień hiperkuli.\n",
    "    \n",
    "    Te testy nie powinny zwrócić błędu:\n",
    "    >>> hiperkula(1,3)\n",
    "    4.1887902047863905\n",
    "    \n",
    "    >>> hiperkula(2,8)\n",
    "    1039.0303043626925\n",
    "    \n",
    "    >>> hiperkula(1,2)\n",
    "    3.141592653589793\n",
    "    \n",
    "    Ten test powinien zwrócić błąd:\n",
    "    \n",
    "    >>> hiperkula(2,3)\n",
    "    10\n",
    "    \n",
    "    \"\"\"\n",
    "    \n",
    "    objętość=((math.pi**(n/2))/(math.gamma((n/2)+1)))*(r**n)\n",
    "    return objętość"
   ]
  },
  {
   "cell_type": "markdown",
   "id": "4312e388-11ae-42ec-90d7-d454f4a74427",
   "metadata": {},
   "source": [
    "Uruchom opracowane testy, aby sprawdzić, czy dobrze działają."
   ]
  },
  {
   "cell_type": "code",
   "execution_count": 10,
   "id": "f6866964-164c-4f25-8f52-cf41cdf0ef33",
   "metadata": {},
   "outputs": [
    {
     "name": "stdout",
     "output_type": "stream",
     "text": [
      "**********************************************************************\n",
      "File \"__main__\", line 18, in __main__.hiperkula\n",
      "Failed example:\n",
      "    hiperkula(2,3)\n",
      "Expected:\n",
      "    10\n",
      "Got:\n",
      "    33.510321638291124\n",
      "**********************************************************************\n",
      "1 items had failures:\n",
      "   1 of   4 in __main__.hiperkula\n",
      "***Test Failed*** 1 failures.\n"
     ]
    },
    {
     "data": {
      "text/plain": [
       "TestResults(failed=1, attempted=4)"
      ]
     },
     "execution_count": 10,
     "metadata": {},
     "output_type": "execute_result"
    }
   ],
   "source": [
    "doctest.testmod()"
   ]
  },
  {
   "cell_type": "markdown",
   "id": "7efa91a8",
   "metadata": {},
   "source": [
    "### Zadanie 5\n",
    "\n",
    "Wybierz dowolne zadanie z kursu Analiza matematyczna, spróbuj je rozwiązać za pomocą biblioteki SymPy.\n",
    "\n",
    "Treść zadania umieść w komórce tekstowej poniżej, zadbaj o formatowanie tekstu oraz wzorów."
   ]
  },
  {
   "cell_type": "markdown",
   "id": "677754f5-b1b4-4664-836a-f7a22e38cd3a",
   "metadata": {},
   "source": [
    "Sprawdź, dla jakich wartości parametru $a$ funkcja $f(x)$ jest ciągła.\n",
    "\n",
    "$$ f(x) = \\begin{cases} \\frac{\\sqrt[5]{x} - 1}{\\sqrt{x} - 1} & \\mbox{dla } x \\neq \\mbox{ 1} \\\\ a & \\mbox{dla } x = \\mbox{ 1} \\end{cases} $$"
   ]
  },
  {
   "cell_type": "markdown",
   "id": "57e035bd",
   "metadata": {},
   "source": [
    "Rozwiązanie wybranego zadania umieść w komórce poniżej."
   ]
  },
  {
   "cell_type": "code",
   "execution_count": 55,
   "id": "767b23c8",
   "metadata": {},
   "outputs": [
    {
     "name": "stdout",
     "output_type": "stream",
     "text": [
      "Funkcja jest ciągła dla a = {2/5}\n"
     ]
    }
   ],
   "source": [
    "# Dodajemy symbole a i x – operujemy na liczbach rzeczywistych\n",
    "a, x=sp.symbols('a, x', real=True)\n",
    "\n",
    "# Obliczamy granice lewostronną i prawostronną funkcji\n",
    "granica_lewostronna=sp.limit((sp.root(x,5)-1)/(sp.sqrt(x)-1), x, 1, '-')\n",
    "granica_prawostronna=sp.limit((sp.root(x,5)-1)/(sp.sqrt(x)-1), x, 1, '+')\n",
    "\n",
    "# Ustawiamy domyślną zmienną sprawdzającą, czy istnieje odpowiednie a na wartość false\n",
    "istnieje_a=False\n",
    "\n",
    "# Sprawdzamy, czy granica lewo- i prawostronna są sobie równe\n",
    "if granica_lewostronna==granica_prawostronna:\n",
    "    granica_lewostronna\n",
    "    \n",
    "    #Przyrównujemy f(1)==a do wartości granicy i rozwiązujemy równanie\n",
    "    równanie=sp.Eq(a, granica_lewostronna)\n",
    "    rozwiązanie=sp.solveset(równanie, a)\n",
    "    \n",
    "    # Jeśli typ rozwiązania nie jest pustym zbiorem, ustawiamy istnieje_a na True i wyświetlamy stosowną informację\n",
    "    if not type(rozwiązanie)==sp.sets.sets.EmptySet:\n",
    "        istnieje_a=True\n",
    "        print('Funkcja jest ciągła dla a = '+str(rozwiązanie))\n",
    "\n",
    "# Jeśli a nie istnieje\n",
    "# tj. granice lewo- i prawostronna nie są sobie równe lub nie ma rzeczywistych wartości a, dla których f(1) jest równe granicy\n",
    "# wyświetlamy stosowną informację\n",
    "if not istnieje_a:\n",
    "    print('Nie ma rzeczywistych wartości a, dla której funkcja jest ciągła.')"
   ]
  },
  {
   "cell_type": "markdown",
   "id": "3d7a18a0",
   "metadata": {},
   "source": [
    "<div style=\"text-align: right\"> Powodzenia!<br><i>Zespół kursu Wstęp do programowania</i></div>"
   ]
  }
 ],
 "metadata": {
  "kernelspec": {
   "display_name": "Python 3 (ipykernel)",
   "language": "python",
   "name": "python3"
  },
  "language_info": {
   "codemirror_mode": {
    "name": "ipython",
    "version": 3
   },
   "file_extension": ".py",
   "mimetype": "text/x-python",
   "name": "python",
   "nbconvert_exporter": "python",
   "pygments_lexer": "ipython3",
   "version": "3.11.5"
  }
 },
 "nbformat": 4,
 "nbformat_minor": 5
}
