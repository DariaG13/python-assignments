{
 "cells": [
  {
   "cell_type": "markdown",
   "id": "c9f7d250",
   "metadata": {},
   "source": [
    "# Mój pierwszy dokument\n",
    "\n",
    "Oto mój pierwszy dokument. Mogę stosować *pochylenie* oraz **pogrubienie**,\n",
    "a nawet matematykę $\\sqrt{2}$ i wypunktowania:\n",
    "1. pierwszy,\n",
    "2. drugi,\n",
    "3. trzeci punkt!"
   ]
  },
  {
   "cell_type": "code",
   "execution_count": 1,
   "id": "ebedbcc7",
   "metadata": {},
   "outputs": [
    {
     "data": {
      "text/plain": [
       "4"
      ]
     },
     "execution_count": 1,
     "metadata": {},
     "output_type": "execute_result"
    }
   ],
   "source": [
    "2+2"
   ]
  },
  {
   "cell_type": "code",
   "execution_count": null,
   "id": "089ddcfe",
   "metadata": {},
   "outputs": [],
   "source": []
  }
 ],
 "metadata": {
  "kernelspec": {
   "display_name": "Python 3 (ipykernel)",
   "language": "python",
   "name": "python3"
  },
  "language_info": {
   "codemirror_mode": {
    "name": "ipython",
    "version": 3
   },
   "file_extension": ".py",
   "mimetype": "text/x-python",
   "name": "python",
   "nbconvert_exporter": "python",
   "pygments_lexer": "ipython3",
   "version": "3.11.5"
  }
 },
 "nbformat": 4,
 "nbformat_minor": 5
}
