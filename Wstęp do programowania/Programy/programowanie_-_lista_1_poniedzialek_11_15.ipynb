{
 "cells": [
  {
   "cell_type": "markdown",
   "id": "6b119e74",
   "metadata": {},
   "source": [
    "# Programowanie\n",
    "## Lista 1\n",
    "\n",
    "Uzupełnij swoje dane poniżej, następnie przeczytaj treść zadań i umieść rozwiązania w odpowidenich komórkach pozostawionych w tym celu pod treścią. Pamiętaj dbać o specyfikację, czyli nazwy zmiennych oraz odpowiednie rozmieszczenie komórek. Jeśli uruchomisz wszystkie komórki, dokument powinien działać bez błędów."
   ]
  },
  {
   "cell_type": "markdown",
   "id": "71ca25af",
   "metadata": {},
   "source": [
    "  * **Imię:** ...\n",
    "  * **Nazwisko:** ...\n",
    "  * **Numer indeksu:** ..."
   ]
  },
  {
   "cell_type": "markdown",
   "id": "cfb0cda7",
   "metadata": {},
   "source": [
    "### Zadanie 1\n",
    "\n",
    "Zapoznaj się z [dokumentacją](https://docs.python.org/3/reference/expressions.html#operator-precedence) opisującą kolejność wykonywania oraz wiązanie operatorów. \n",
    "\n",
    "#### Podpunkt a\n",
    "\n",
    "Zaproponuj fragment kodu pokazujący, że operator potęgowania `**` ma wyższy priorytet niż operator mnożenia."
   ]
  },
  {
   "cell_type": "code",
   "execution_count": 8,
   "id": "08c8f609",
   "metadata": {},
   "outputs": [
    {
     "data": {
      "text/plain": [
       "False"
      ]
     },
     "execution_count": 8,
     "metadata": {},
     "output_type": "execute_result"
    }
   ],
   "source": [
    "3**(4*2)==3**4*2"
   ]
  },
  {
   "cell_type": "markdown",
   "id": "c1dfb2de",
   "metadata": {},
   "source": [
    "#### Podpunkt b\n",
    "\n",
    "O wiązaniu w lewo mówimy, gdy wyrażenie `a + b + c` jest rozumiane jako `(a + b) + c`, natomiast w prawo, gdy `a + b + c = a + (b + c)`. Jest to istotne, ponieważ jak wiemy z wykładu, operacje zmiennoprzecinkowe nie muszą być łączne, zatem oba nawiasowania mogą dać różne wyniki nawet dla dodawania (które w języku Python wiąże w lewo).\n",
    "\n",
    "Dobierz przykłady pokazujące, że operator potęgowania wiąże w prawo."
   ]
  },
  {
   "cell_type": "code",
   "execution_count": 11,
   "id": "bebddb4a",
   "metadata": {},
   "outputs": [
    {
     "data": {
      "text/plain": [
       "True"
      ]
     },
     "execution_count": 11,
     "metadata": {},
     "output_type": "execute_result"
    }
   ],
   "source": [
    "2**3**4==2**(3**4)"
   ]
  },
  {
   "cell_type": "markdown",
   "id": "4046f554",
   "metadata": {},
   "source": [
    "### Zadanie 2\n",
    "\n",
    "Oblicz pole trójkąta o zadanych bokach, zapisanych w zmiennych `a`, `b` oraz `c`."
   ]
  },
  {
   "cell_type": "code",
   "execution_count": 19,
   "id": "da505c92",
   "metadata": {},
   "outputs": [],
   "source": [
    "a = 3\n",
    "b = 4\n",
    "c = 5"
   ]
  },
  {
   "cell_type": "markdown",
   "id": "30956f13",
   "metadata": {},
   "source": [
    "_Rozwiązanie umieść poniżej, po wywołaniu komórki odpowiedź powinna być zapisana w zmiennej `pole`. Możesz utworzyć dowolnie wiele zmiennych pomocniczych._"
   ]
  },
  {
   "cell_type": "code",
   "execution_count": 20,
   "id": "c0aee58f",
   "metadata": {},
   "outputs": [],
   "source": [
    "import math\n",
    "p=(a+b+c)/2\n",
    "pole = math.sqrt(p*(p-a)*(p-b)*(p-c))"
   ]
  },
  {
   "cell_type": "markdown",
   "id": "a21a95aa",
   "metadata": {},
   "source": [
    "**Odpowiedź:** Pole wynosi"
   ]
  },
  {
   "cell_type": "code",
   "execution_count": 21,
   "id": "271b2162",
   "metadata": {},
   "outputs": [
    {
     "data": {
      "text/plain": [
       "6.0"
      ]
     },
     "execution_count": 21,
     "metadata": {},
     "output_type": "execute_result"
    }
   ],
   "source": [
    "pole"
   ]
  },
  {
   "cell_type": "markdown",
   "id": "181152ca",
   "metadata": {},
   "source": [
    "### Zadanie 3\n",
    "\n",
    "Dzień juliański to liczba dni od 1 stycznia 4713 r. p.n.e. według kalendarza juliańskiego. Jeśli dzień, którego szukamy jest w zmiennych $D$, $M$, $R$ oznaczających dzień, miesiąc i rok odpowiednio, dzień juliański $d$ wyliczymy ze wzorów\n",
    "\n",
    "$$ a = \\left\\lfloor\\frac{14 - M}{12}\\right\\rfloor, $$\n",
    "$$ y = R + 4800 - a,$$\n",
    "$$ m = M + 12a - 3,$$\n",
    "$$ d = D + \\left\\lfloor\\frac{153m+2}{5}\\right\\rfloor + 365y+ \\left\\lfloor\\frac{y}{4}\\right\\rfloor - \\left\\lfloor\\frac{y}{100}\\right\\rfloor + \\left\\lfloor\\frac{y}{400}\\right\\rfloor - 32045.$$\n",
    "\n",
    "#### Podpunkt a\n",
    "\n",
    "Oblicz dzień juliański odpowiadający dacie 29 maja 2015 roku (jest to data formalnego wydzielenia Wydziału Matematyki Politechniki Wrocławskiej z Wydziału Podstawowych Problemów Techniki)."
   ]
  },
  {
   "cell_type": "code",
   "execution_count": 22,
   "id": "84e50a36",
   "metadata": {},
   "outputs": [],
   "source": [
    "D1 = 29\n",
    "M1 = 5\n",
    "R1 = 2015"
   ]
  },
  {
   "cell_type": "markdown",
   "id": "d4263a6f",
   "metadata": {},
   "source": [
    "_Rozwiązanie umieść poniżej, po wywołaniu komórki odpowiedź powinna być zapisana w zmiennej `wmat`. Możesz utworzyć dowolnie wiele zmiennych pomocniczych._"
   ]
  },
  {
   "cell_type": "code",
   "execution_count": 26,
   "id": "e217742d",
   "metadata": {},
   "outputs": [],
   "source": [
    "a=(14-M1)//12\n",
    "y=R1+4800-a\n",
    "m=M1+12*a-3\n",
    "\n",
    "wmat = D1+(153*m+2)//5+365*y+y//4-y//100+y//400-32045"
   ]
  },
  {
   "cell_type": "markdown",
   "id": "0c7c18e8",
   "metadata": {},
   "source": [
    "**Odpowiedź:** Dzień juliański odpowiadający 29 maja 2015 roku to"
   ]
  },
  {
   "cell_type": "code",
   "execution_count": 27,
   "id": "df1cbddd",
   "metadata": {},
   "outputs": [
    {
     "data": {
      "text/plain": [
       "2457172"
      ]
     },
     "execution_count": 27,
     "metadata": {},
     "output_type": "execute_result"
    }
   ],
   "source": [
    "wmat"
   ]
  },
  {
   "cell_type": "markdown",
   "id": "43b0366c",
   "metadata": {},
   "source": [
    "#### Podpunkt b\n",
    "\n",
    "Wiedząc, że 1 stycznia 4713 r. p.n.e. był poniedziałek, oblicz, w jaki dzień tygodnia utworzono wydział matematyki (podpowiedź, przyda Ci się operacja reszty z dzielenia). Przyjmij następujące kodowanie dla dni tygodnia:\n",
    "\n",
    "| Numer  | Dzień         |\n",
    "| ------ | ------------- |\n",
    "| 1      | poniedziałek  |\n",
    "| 2      | wtorek        |\n",
    "| 3      | środa         |\n",
    "| 4      | czwartek      |\n",
    "| 5      | piątek        |\n",
    "| 6      | sobota        |\n",
    "| 7      | niedziela     |\n",
    "\n",
    "_Rozwiązanie umieść poniżej, po wywołaniu komórki odpowiedź powinna być zapisana w zmiennej `dzień`. Możesz utworzyć dowolnie wiele zmiennych pomocniczych._"
   ]
  },
  {
   "cell_type": "code",
   "execution_count": 28,
   "id": "13735e4e",
   "metadata": {},
   "outputs": [],
   "source": [
    "dzień = wmat%7+1"
   ]
  },
  {
   "cell_type": "markdown",
   "id": "8fef90b4",
   "metadata": {},
   "source": [
    "**Odpowiedź:** 29 maja 2015 był dzień tygodnia o numerze"
   ]
  },
  {
   "cell_type": "code",
   "execution_count": 29,
   "id": "e8fbb32f",
   "metadata": {},
   "outputs": [
    {
     "data": {
      "text/plain": [
       "5"
      ]
     },
     "execution_count": 29,
     "metadata": {},
     "output_type": "execute_result"
    }
   ],
   "source": [
    "dzień"
   ]
  },
  {
   "cell_type": "markdown",
   "id": "892fd2ba",
   "metadata": {},
   "source": [
    "#### Podpunkt c\n",
    "\n",
    "Kasia chce złożyć wypowiedzenie w swojej obecnej pracy. Obowiązuje ją miesięczny okres wypowiedzenia, który zgodnie z prawem kończy się w ostatni dzień miesiąca następującego po miesiącu złożenia wypowiedzenia. Jeśli Kasia złoży wypowiedzenie tuż po przyjściu do pracy dnia 26 października 2022 roku, ile dni będzie musiała przepracować? Kasia pracuje od poniedziałku do piątku, zatem do wyniku nie wliczaj dni weekendu."
   ]
  },
  {
   "cell_type": "code",
   "execution_count": 37,
   "id": "1555aa27",
   "metadata": {},
   "outputs": [],
   "source": [
    "D2 = 26\n",
    "M2 = 10\n",
    "R2 = 2022\n",
    "\n",
    "DW=30\n",
    "MW=M2%12+1\n",
    "RW=R2+M2//12"
   ]
  },
  {
   "cell_type": "markdown",
   "id": "74bef6ff",
   "metadata": {},
   "source": [
    "_Rozwiązanie umieść poniżej, po wywołaniu komórki odpowiedź powinna być zapisana w zmiennej `dni_pracy`. Możesz utworzyć dowolnie wiele zmiennych pomocniczych._"
   ]
  },
  {
   "cell_type": "code",
   "execution_count": 38,
   "id": "01c2a929",
   "metadata": {},
   "outputs": [],
   "source": [
    "a=(14-M2)//12\n",
    "y=R2+4800-a\n",
    "m=M2+12*a-3\n",
    "DniWypowiedzenia=D2+(153*m+2)//5+365*y+y//4-y//100+y//400-32045\n",
    "\n",
    "a=(14-MW)//12\n",
    "y=RW+4800-a\n",
    "m=MW+12*a-3\n",
    "DniKoncaPracy=DW+(153*m+2)//5+365*y+y//4-y//100+y//400-32045\n",
    "RoznicaDni=DniKoncaPracy-DniWypowiedzenia\n",
    "dni_pracy=RoznicaDni-2*(RoznicaDni/7)"
   ]
  },
  {
   "cell_type": "markdown",
   "id": "e803056e",
   "metadata": {},
   "source": [
    "**Odpowiedź:** Liczba dni, którą Kasia musi chodzić do pracy, to"
   ]
  },
  {
   "cell_type": "code",
   "execution_count": 39,
   "id": "8ddb7575",
   "metadata": {},
   "outputs": [
    {
     "data": {
      "text/plain": [
       "25.0"
      ]
     },
     "execution_count": 39,
     "metadata": {},
     "output_type": "execute_result"
    }
   ],
   "source": [
    "dni_pracy"
   ]
  },
  {
   "cell_type": "markdown",
   "id": "2122ed90",
   "metadata": {},
   "source": [
    "### Zadanie 4\n",
    "\n",
    "Do przybliżenia liczby $\\pi$ można użyć następującego równania, które pozwala je wyznaczyć z dokładnością do 18 miejsc po przecinku.\n",
    "\n",
    "$$ \\pi \\approx \\frac{80\\sqrt{15}(5^4+53\\sqrt{89})^\\frac{3}{2}}{3308(5^4+53\\sqrt{89})-3\\sqrt{89}}$$\n",
    "\n",
    "Zaimplementuj przybliżenie liczby $\\pi$ i zapisz do zmiennej `pi`."
   ]
  },
  {
   "cell_type": "code",
   "execution_count": 41,
   "id": "b1d048b0",
   "metadata": {},
   "outputs": [],
   "source": [
    "pi = (80*math.sqrt(15)*(5**4+53*math.sqrt(89))**(3/2))/(3308*(5**4+53*math.sqrt(89))-3*math.sqrt(89))"
   ]
  },
  {
   "cell_type": "markdown",
   "id": "236ac135",
   "metadata": {},
   "source": [
    "**Odpowiedź:** Przybliżenie wartości $\\pi$, to"
   ]
  },
  {
   "cell_type": "code",
   "execution_count": 42,
   "id": "4f5562a4",
   "metadata": {},
   "outputs": [
    {
     "data": {
      "text/plain": [
       "3.141592653589793"
      ]
     },
     "execution_count": 42,
     "metadata": {},
     "output_type": "execute_result"
    }
   ],
   "source": [
    "pi"
   ]
  },
  {
   "cell_type": "markdown",
   "id": "fa91b810",
   "metadata": {},
   "source": [
    "### Zadanie 5\n",
    "\n",
    "Załóżmy, że zakładamy $n$-letnią lokatę na $p$ procent w skali roku z $m$ kapitalizacjami w ciągu roku. Oznacza to, że po dowolnym spośród $n\\cdot m$ okresów kapitalizacji, zarobimy $\\frac{p}{m}$ procent (bank zaokrągli kwotę w dół do pełnych groszy). Następnie, odliczony zostanie podatek od dochodów kapitałowych (19%). Kwota po odliczeniu podatku zostanie ponownie zaokrąglona do pełnych groszy w dół i doliczona do początkowego kapitału, który będzie „pracował” w kolejnym okresie kapitalizacji.\n",
    "\n",
    "##### Podpunkt a\n",
    "\n",
    "Dla uproszczenia pomińmy chwilowo dwa miejsca, w których zaokrąglamy kwoty w dół do pełnych groszy.\n",
    "\n",
    "Ile procent początkowej kwoty zarobi każda z poniższych lokat?\n",
    "\n",
    "  * dwuletnia na 2.3% w skali roku z rocznym okresem kapitalizacji,"
   ]
  },
  {
   "cell_type": "code",
   "execution_count": null,
   "id": "42d09722",
   "metadata": {},
   "outputs": [],
   "source": [
    "n1 = 2\n",
    "p1 = 0.023\n",
    "m1 = 1\n",
    "\n",
    "procent1 = ..."
   ]
  },
  {
   "cell_type": "markdown",
   "id": "d0b23191",
   "metadata": {},
   "source": [
    "   * dwuletnia na 2.25% w skali roku z półrocznym okresem kapitalizacji,\n"
   ]
  },
  {
   "cell_type": "code",
   "execution_count": null,
   "id": "f20ca3a6",
   "metadata": {},
   "outputs": [],
   "source": [
    "n2 = 2\n",
    "p2 = 0.0225\n",
    "m2 = 2\n",
    "\n",
    "procent2 = ..."
   ]
  },
  {
   "cell_type": "markdown",
   "id": "83d81e1a",
   "metadata": {},
   "source": [
    "  * dwuletnia na 2.2% w skali roku z kwartalnym okresem kapitalizacji,"
   ]
  },
  {
   "cell_type": "code",
   "execution_count": null,
   "id": "ab9092cc",
   "metadata": {},
   "outputs": [],
   "source": [
    "n3 = 2\n",
    "p3 = 0.022\n",
    "m3 = 4\n",
    "\n",
    "procent3 = ..."
   ]
  },
  {
   "cell_type": "markdown",
   "id": "f05022f1",
   "metadata": {},
   "source": [
    "  * dwuletnia na 2.15% w skali roku z dziennym okresem kapitalizacji (zakładamy, że lokata trwa dwa razy po 365 dni)."
   ]
  },
  {
   "cell_type": "code",
   "execution_count": null,
   "id": "c8038f88",
   "metadata": {},
   "outputs": [],
   "source": [
    "n4 = 2\n",
    "p4 = 0.0215\n",
    "m4 = 365\n",
    "\n",
    "procent4 = ..."
   ]
  },
  {
   "cell_type": "markdown",
   "id": "2251748b",
   "metadata": {},
   "source": [
    "#### Podpunkt b\n",
    "\n",
    "Tym razem nie pomijamy zaokrągleń w dół do pełnych groszy. Na lokatę wpłacamy 1000,00PLN. Ile złotych (i groszy) zarobią następujące lokaty?\n",
    "\n",
    "  * dwuletnia na 2.3% w skali roku z rocznym okresem kapitalizacji,"
   ]
  },
  {
   "cell_type": "code",
   "execution_count": null,
   "id": "3b51530e",
   "metadata": {},
   "outputs": [],
   "source": [
    "n5 = 2\n",
    "p5 = 0.023\n",
    "m5 = 1\n",
    "kwota5 = 1000\n",
    "\n",
    "zysk5 = ..."
   ]
  },
  {
   "cell_type": "markdown",
   "id": "2045b3cb",
   "metadata": {},
   "source": [
    "  *  dwuletnia na 2.25% w skali roku z półrocznym okresem kapitalizacji."
   ]
  },
  {
   "cell_type": "code",
   "execution_count": null,
   "id": "a60333eb",
   "metadata": {},
   "outputs": [],
   "source": [
    "n6 = 2\n",
    "p6 = 0.0225\n",
    "m6 = 2\n",
    "kwota6 = 1000\n",
    "\n",
    "zysk6 = ..."
   ]
  },
  {
   "cell_type": "markdown",
   "id": "42425b7d",
   "metadata": {},
   "source": [
    "## Podsumowanie\n",
    "\n",
    "Przejrzyj raz jeszcze wyniki i upewnij się, że odpowiedzi są prawidłowe."
   ]
  },
  {
   "cell_type": "code",
   "execution_count": null,
   "id": "9218bc5a",
   "metadata": {},
   "outputs": [],
   "source": [
    "pole # zadanie 2"
   ]
  },
  {
   "cell_type": "code",
   "execution_count": null,
   "id": "bd4fe26c",
   "metadata": {},
   "outputs": [],
   "source": [
    "wmat # zadanie 3a"
   ]
  },
  {
   "cell_type": "code",
   "execution_count": null,
   "id": "39f6b2c8",
   "metadata": {},
   "outputs": [],
   "source": [
    "dzień # zadanie 3b"
   ]
  },
  {
   "cell_type": "code",
   "execution_count": null,
   "id": "f28e7440",
   "metadata": {},
   "outputs": [],
   "source": [
    "dni_pracy # zadanie 3c"
   ]
  },
  {
   "cell_type": "code",
   "execution_count": null,
   "id": "c15cad6e",
   "metadata": {},
   "outputs": [],
   "source": [
    "pi # zadanie 4"
   ]
  },
  {
   "cell_type": "code",
   "execution_count": null,
   "id": "f18b86af",
   "metadata": {},
   "outputs": [],
   "source": [
    "procent1 # zadanie 5a"
   ]
  },
  {
   "cell_type": "code",
   "execution_count": null,
   "id": "53ff9e7d",
   "metadata": {},
   "outputs": [],
   "source": [
    "procent2 # zadanie 5a"
   ]
  },
  {
   "cell_type": "code",
   "execution_count": null,
   "id": "b6ba9a2a",
   "metadata": {},
   "outputs": [],
   "source": [
    "procent3 # zadanie 5a"
   ]
  },
  {
   "cell_type": "code",
   "execution_count": null,
   "id": "d957b7fc",
   "metadata": {},
   "outputs": [],
   "source": [
    "procent4 # zadanie 5a"
   ]
  },
  {
   "cell_type": "code",
   "execution_count": null,
   "id": "776801a4",
   "metadata": {},
   "outputs": [],
   "source": [
    "zysk5 # zadanie 5b"
   ]
  },
  {
   "cell_type": "code",
   "execution_count": null,
   "id": "0326ccaa",
   "metadata": {},
   "outputs": [],
   "source": [
    "zysk6 # zadanie 5b"
   ]
  },
  {
   "cell_type": "markdown",
   "id": "54bb4d40",
   "metadata": {},
   "source": [
    "<div style=\"text-align: right\"> Powodzenia!<br><i>Zespół kursu Programowanie</i></div>"
   ]
  },
  {
   "cell_type": "markdown",
   "id": "835d780f",
   "metadata": {},
   "source": [
    "# Wzory\n",
    "<ul>\n",
    "    <li> LaTeX\n",
    "$$ \\frac{\\sin(x)}{(\\cos{\\frac{x^2}{5}}+3)}$$\n",
    "        \n",
    "</ul>"
   ]
  },
  {
   "cell_type": "markdown",
   "id": "a0a876fa",
   "metadata": {},
   "source": [
    "<H1>Zadanie domowe</H1>\n",
    "Przygotuj notatnik ze wzorami i obliczeniami dotyczącymi jakiegoś problemu matematycznego, fizycznego lub chemicznego z poziomu szkoły średniej. Musisz użyć nagłówków, tekstu, wzorów oraz przeplatać komórki tekstowe z komórkami input/output. Całość musi działać prawidłowo, gdy uruchomimy wszystkie komórki (nawet, jeśli sensownie zmienimy dane)."
   ]
  },
  {
   "cell_type": "code",
   "execution_count": null,
   "id": "eeeab300",
   "metadata": {},
   "outputs": [],
   "source": []
  }
 ],
 "metadata": {
  "kernelspec": {
   "display_name": "Python 3 (ipykernel)",
   "language": "python",
   "name": "python3"
  },
  "language_info": {
   "codemirror_mode": {
    "name": "ipython",
    "version": 3
   },
   "file_extension": ".py",
   "mimetype": "text/x-python",
   "name": "python",
   "nbconvert_exporter": "python",
   "pygments_lexer": "ipython3",
   "version": "3.11.5"
  }
 },
 "nbformat": 4,
 "nbformat_minor": 5
}
