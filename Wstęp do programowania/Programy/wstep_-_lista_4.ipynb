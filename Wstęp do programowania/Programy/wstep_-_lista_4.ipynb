{
 "cells": [
  {
   "cell_type": "markdown",
   "id": "817cd8f2",
   "metadata": {},
   "source": [
    "# Wstęp do programowania\n",
    "## Lista 4\n",
    "\n",
    "Uzupełnij swoje dane poniżej, następnie przeczytaj treść zadań i umieść rozwiązania w odpowidenich komórkach pozostawionych w tym celu pod treścią. Pamiętaj dbać o specyfikację, czyli nazwy zmiennych oraz odpowiednie rozmieszczenie komórek. Jeśli uruchomisz wszystkie komórki, dokument powinien działać bez błędów."
   ]
  },
  {
   "cell_type": "markdown",
   "id": "76926f19",
   "metadata": {},
   "source": [
    "  * **Imię:** Daria\n",
    "  * **Nazwisko:** Grzelak\n",
    "  * **Numer indeksu:** 277533"
   ]
  },
  {
   "cell_type": "markdown",
   "id": "f179d9a1",
   "metadata": {},
   "source": [
    "W rozwiązaniach zadań możesz korzystać z biblioteki `math`."
   ]
  },
  {
   "cell_type": "code",
   "execution_count": 1,
   "id": "2ceefa09",
   "metadata": {},
   "outputs": [],
   "source": [
    "import math"
   ]
  },
  {
   "cell_type": "markdown",
   "id": "e7d3ab53",
   "metadata": {},
   "source": [
    "### Zadanie 1\n",
    "\n",
    "Przypomnij sobie zadanie o dniu juliańskim z pierwszej listy.\n",
    "\n",
    "#### podpunkt a\n",
    "\n",
    "Zaimplementuj funkcję `dzień_juliański(D, M, R)` zwracającą dzień juliański odpowiadający podanej dacie. Rozwiązanie umieść w komórce poniżej."
   ]
  },
  {
   "cell_type": "code",
   "execution_count": 7,
   "id": "f534f34d",
   "metadata": {},
   "outputs": [
    {
     "data": {
      "text/plain": [
       "2460255"
      ]
     },
     "execution_count": 7,
     "metadata": {},
     "output_type": "execute_result"
    }
   ],
   "source": [
    "# Definicja funkcji\n",
    "def dzień_juliański(D, M, R):\n",
    "    # Implementacja wzoru z listy 1\n",
    "    a=(14-M)//12\n",
    "    y=R+4800-a\n",
    "    m=M+12*a-3\n",
    "    dzień=D+(153*m+2)//5+365*y+y//4-y//100+y//400-32045\n",
    "    return dzień\n",
    "\n",
    "# Sprawdzenie przykładowego dnia juliańskiego\n",
    "dzień_juliański(6,11,2023)"
   ]
  },
  {
   "cell_type": "markdown",
   "id": "551e1ff2",
   "metadata": {},
   "source": [
    "#### podpunkt b\n",
    "\n",
    "Zaimplementuj funkcję `ile_dni(data1, data2)` obliczającą, ile dni upłynęło pomiędzy dwiema datami, gdzie daty podane są jako krotki `(D, M, R)`. Wykorzystaj funkcję zaimplementowaną w poprzednim podpunkcie. Przykładowe wywołanie\n",
    "```python\n",
    "print(ile_dni((4, 11, 2021), (6, 12, 2021)))\n",
    "```\n",
    "powinno dać w wyniku liczbę 32.\n",
    "\n",
    "Podpowiedź: użyj funkcji napisanej w podpunkcie a.\n",
    "\n",
    "Rozwiązanie umieść w komórce poniżej."
   ]
  },
  {
   "cell_type": "code",
   "execution_count": 12,
   "id": "e3c3dc93",
   "metadata": {},
   "outputs": [],
   "source": [
    "def ile_dni(data1, data2):\n",
    "    dzień_juliański1=dzień_juliański(data1[0], data1[1], data1[2]) # Obliczenie dnia juliańskiego dla pierwszej daty\n",
    "    dzień_juliański2=dzień_juliański(data2[0], data2[1], data2[2]) # Obliczenie dnia juliańskiego dla drugiej daty\n",
    "    różnica=abs(dzień_juliański2-dzień_juliański1) # Odjęcie dni od siebie, dzięki użyciu funkcji abs zwraca wartość bezwzględną, więc kolejność dat nie ma znaczenia\n",
    "    return różnica"
   ]
  },
  {
   "cell_type": "code",
   "execution_count": 13,
   "id": "12766c7e",
   "metadata": {},
   "outputs": [
    {
     "name": "stdout",
     "output_type": "stream",
     "text": [
      "32\n"
     ]
    }
   ],
   "source": [
    "print(ile_dni((4, 11, 2021), (6, 12, 2021)))"
   ]
  },
  {
   "cell_type": "markdown",
   "id": "50cbdbe6",
   "metadata": {},
   "source": [
    "### Zadanie 2\n",
    "\n",
    "#### Podpunkt a\n",
    "\n",
    "Napisz funkcję `fizz_buzz(x)`, która dla liczby naturalnej `x` zwraca napis:\n",
    "\n",
    "  - \"Fizz\" dla liczb podzielnych przez 3,\n",
    "  - \"Buzz\" dla liczb podzielnych przez 5,\n",
    "  - \"Fizz Buzz\" dla liczb jednocześnie podzielnych przez 3 i 5,\n",
    "  - napis oznaczający liczbę w pozostałych przypadkach, np.: \"4\" dla `x=4`.\n",
    "\n",
    "Podpowiedź: użyj wyrażenia warunkowego, operatora reszty z dzielenia oraz operatora `or`.\n",
    "\n",
    "Rozwiązanie umieść w komórce poniżej."
   ]
  },
  {
   "cell_type": "code",
   "execution_count": 14,
   "id": "2685a83c",
   "metadata": {},
   "outputs": [],
   "source": [
    "def fizz_buzz(x):\n",
    "    if x%3==0 or x%5==0:\n",
    "        napis=\"\"\n",
    "        if x%3==0:\n",
    "            napis+=\" Fizz\"\n",
    "        if x%5==0:\n",
    "            napis+=\" Buzz\"\n",
    "        napis=napis[1:]\n",
    "    else:\n",
    "        napis=str(x)\n",
    "    return napis"
   ]
  },
  {
   "cell_type": "markdown",
   "id": "94dcb4c2",
   "metadata": {},
   "source": [
    "#### Podpunkt b\n",
    "\n",
    "Stwórz listę napisów zgodnych z opisem powyżej dla liczb naturalnych dodatnich od $1$ do $100$.\n",
    "\n",
    "Podpowiedź: skorzystaj z list składanych.\n",
    "\n",
    "Rozwiązanie umieść w komórce poniżej."
   ]
  },
  {
   "cell_type": "code",
   "execution_count": 16,
   "id": "69144a42",
   "metadata": {},
   "outputs": [
    {
     "name": "stdout",
     "output_type": "stream",
     "text": [
      "['1', '2', 'Fizz', '4', 'Buzz', 'Fizz', '7', '8', 'Fizz', 'Buzz', '11', 'Fizz', '13', '14', 'Fizz Buzz', '16', '17', 'Fizz', '19', 'Buzz', 'Fizz', '22', '23', 'Fizz', 'Buzz', '26', 'Fizz', '28', '29', 'Fizz Buzz', '31', '32', 'Fizz', '34', 'Buzz', 'Fizz', '37', '38', 'Fizz', 'Buzz', '41', 'Fizz', '43', '44', 'Fizz Buzz', '46', '47', 'Fizz', '49', 'Buzz', 'Fizz', '52', '53', 'Fizz', 'Buzz', '56', 'Fizz', '58', '59', 'Fizz Buzz', '61', '62', 'Fizz', '64', 'Buzz', 'Fizz', '67', '68', 'Fizz', 'Buzz', '71', 'Fizz', '73', '74', 'Fizz Buzz', '76', '77', 'Fizz', '79', 'Buzz', 'Fizz', '82', '83', 'Fizz', 'Buzz', '86', 'Fizz', '88', '89', 'Fizz Buzz', '91', '92', 'Fizz', '94', 'Buzz', 'Fizz', '97', '98', 'Fizz', 'Buzz']\n"
     ]
    }
   ],
   "source": [
    "napisy_fizz_buzz=[fizz_buzz(x) for x in range(1,101)]\n",
    "print(napisy_fizz_buzz)"
   ]
  },
  {
   "cell_type": "markdown",
   "id": "87e972a7",
   "metadata": {},
   "source": [
    "### Zadanie 3\n",
    "\n",
    "Naszym celem jest napisanie programu, który sortuje punkty na płaszczyźnie względem ich odległości od prostej $y=x$. Chcemy, aby najpierw w liście znalazły się punkty najbliżej prostej, na końcu punkty najdalej od prostej. Jeśli lubisz geometrię i chcesz sam zmierzyć się z tym problemem, możesz przejść do podpunktu a zadania. Jeśli nie chcecsz lub nie udało się go znaleźć, możesz kontynuować opis.\n",
    "\n",
    "Ponieważ prosta $y=x$ jest nachylona do osi OX pod kątem $45^\\circ$, licząc odległość punktu $A = (a, b)$ od prostej, musimy wyznaczyć prostą prostopadłą do $y=x$ przechodzącą przez punkt $A$. Jej równanie będzie postaci $y=-x+c$ dla pewnego $c$. Podstawiając współrzędne $(a, b)$ punktu $A$ do równania $y=-x+c$ otrzymujemy $b = -a+c$, czyli $c=a+b$. Oznacza to, że prosta prostopadła do $y=x$ przechodząca przez punkt $A=(a, b)$ ma równanie $y=-x+(a+b)$. Aby znaleźć punkt przecięcia prostych, rozwiązujemy układ równań\n",
    "$$\\begin{cases} y = x,\\\\ y=-x+(a+b).\\end{cases}$$\n",
    "Rozwiązaniem układu równań jest punkt $P=(x_P, y_P) = \\left(\\frac{a+b}{2},\\frac{a+b}{2}\\right)$. Odległość pomiędzy punktami jest równa\n",
    "$$ \\begin{split}d(A, P) &= \\sqrt{(a-x_P)^2 + (b-y_P)^2} = \\sqrt{\\left(a-\\frac{a+b}{2}\\right)^2 + \\left(b-\\frac{a+b}{2}\\right)^2} \\\\&= \\sqrt{\\left(\\frac{a-b}{2}\\right)^2 + \\left(\\frac{b-a}{2}\\right)^2}= \\sqrt{2\\cdot \\left(\\frac{a-b}{2}\\right)^2 } = \\frac{|a-b|}{\\sqrt{2}}.\\end{split}$$\n",
    "Ponieważ sortujemy, stała nie gra roli, zatem punkt $A=(a, b)$ położony najdalej od prostej $y=x$ to ten, dla którego największa jest wartość $|a-b|$. Podobnie, najbliżej prostej $y=x$ leży ten punkt, dla którego moduł różnicy współrzędnych jest najmniejszy. W szczególności, jeśli $|a-b|=0$, punkt leży na prostej.\n",
    "\n",
    "#### podpunkt a\n",
    "\n",
    "Przypomnij sobie materiał o funkcji `sorted` i metodzie `sort` z wykładu oraz o krotkach. Ponieważ sortowanie domyślnie odbywa się w porządku rosnącym, a krotki porządkowane są leksykograficznie, czyli ich sortowanie odbywa się najpierw po pierwszej współrzędnej, jednym z pomysłów na rozwiązanie postawionego problemu jest dla listy punktów\n",
    "$$[A_1, A_2, A_3, \\ldots, A_n],$$\n",
    "stworzenie listy\n",
    "$$[(d_1, A_1), (d_2, A_2), (d_3, A_3), \\ldots, (d_n, A_n)],$$\n",
    "gdzie $d_i$ jest proporcjonalne do odległości punktu $A_i$ od prostej $y=x$. Następnie taką listę będziemy mogli posortować. Pierwszy jej element będzie postaci $(d_k, A_k)$, gdzie $d_k$ będzie najmniejszą odległością a $A_k$ będzie punktem najbliżej prostej $y=x$.\n",
    "\n",
    "Zaimplementuj ten pomysł wstawiając fragmenty kodu w miejsca wielokropków. Postaraj się nie modyfikować innych fragmentów funkcji."
   ]
  },
  {
   "cell_type": "code",
   "execution_count": 17,
   "id": "e0cae480",
   "metadata": {},
   "outputs": [],
   "source": [
    "def sortuj_punkty(punkty):\n",
    "    # przygotuj listę punktów z odległością\n",
    "    punkty_dist= [(math.sqrt((1/2)*((p[0]-p[1])**2)), p) for p in punkty]\n",
    "    # posortuj punkty w miejscu, bez tworzenia dodatkowej listy\n",
    "    punkty_dist.sort()\n",
    "    # zwróć same punkty bez odległości\n",
    "    return [pd[1] for pd in punkty_dist]"
   ]
  },
  {
   "cell_type": "markdown",
   "id": "6947f0a2-f27c-42b8-851d-85ab6b633577",
   "metadata": {},
   "source": [
    "#### podpunkt b\n",
    "Wymyśl 3 przykłady użycia pozwalające sprawdzić, że dobrze zaimplementowałeś sortowanie."
   ]
  },
  {
   "cell_type": "code",
   "execution_count": 18,
   "id": "3b7f9e0c-36eb-4e15-a589-c2c44cc7eb4c",
   "metadata": {},
   "outputs": [
    {
     "name": "stdout",
     "output_type": "stream",
     "text": [
      "[(3, 3), (5, 4), (8, 20)]\n"
     ]
    }
   ],
   "source": [
    "punkty1 = [(3,3), (8,20), (5,4)]\n",
    "wynik1 = sortuj_punkty(punkty1)\n",
    "print(wynik1)"
   ]
  },
  {
   "cell_type": "code",
   "execution_count": 19,
   "id": "302e52d1-06ec-45be-9d07-7d12fa83428d",
   "metadata": {},
   "outputs": [
    {
     "name": "stdout",
     "output_type": "stream",
     "text": [
      "[(30, 31), (9, 18), (100, 0)]\n"
     ]
    }
   ],
   "source": [
    "punkty2 = [(9,18),(100,0),(30,31)]\n",
    "wynik2 = sortuj_punkty(punkty2)\n",
    "print(wynik2)"
   ]
  },
  {
   "cell_type": "code",
   "execution_count": 21,
   "id": "278e5280-03d2-4d6f-ae36-9c9b5dd2874e",
   "metadata": {},
   "outputs": [
    {
     "name": "stdout",
     "output_type": "stream",
     "text": [
      "[(1, 1), (2, 4), (3, 9), (4, 16), (5, 25), (6, 36), (7, 49), (8, 64), (9, 81), (10, 100), (11, 121), (12, 144), (13, 169), (14, 196), (15, 225), (16, 256), (17, 289), (18, 324), (19, 361), (20, 400)]\n"
     ]
    }
   ],
   "source": [
    "punkty3 = [(x,x**2) for x in range(1,21)]\n",
    "wynik3 = sortuj_punkty(punkty3)\n",
    "print(wynik3)"
   ]
  },
  {
   "cell_type": "markdown",
   "id": "9938790c",
   "metadata": {},
   "source": [
    "### Zadanie 4\n",
    "\n",
    "Baza danych w pewnej fikcyjnej szkole przechowywana jest za pomocą struktur danych Pythona. Oceny całej klasy reprezentowane są jako słownik, którego kluczami są uczniowie (napisy z imieniem i nazwiskiem) a wartościami słowniki reprezentujące oceny ucznia. Każdy słownik przedstawiający oceny ucznia ma nazwę przedmiotu jako klucz i listę ocen jako wartość. Oceny zapisane są jako liczby. Fragment przykładowych danych, to\n",
    "```python\n",
    "klasa1h = {\n",
    "    'Hipolit Hipopotamowicz': {\n",
    "        'język polski': [3, 3, 4],\n",
    "        'matematyka': [1, 2, 1, 3, 1],\n",
    "        ...\n",
    "    }, \n",
    "    ...\n",
    "}\n",
    "```\n",
    "#### podpunkt a\n",
    "W szkole uznaje się, że uczeń jest zagrożony z przedmiotu, jeśli jego średnia ocen z danego przedmiotu jest poniżej 2. Napisz funkcję `zagrożenia(klasa)`, która dla klasy reprezentowanej jak poniżej zwróci informację o zagrożeniach jako słownik, którego kluczami będą uczniowie (napisy z imieniem i nazwiskiem) a wartością listy przedmiotów, z których uczeń ma zagrożenie. Przykład użycia\n",
    "```python\n",
    "print(zagrożenia(klasa1h))\n",
    "```\n",
    "da w wyniku między innymi\n",
    "```python\n",
    "{\n",
    "    'Hipolit Hipopotamowicz': ['matematyka'],\n",
    "    ...\n",
    "}\n",
    "```\n",
    "Rozwiązanie umieść w komórce poniżej."
   ]
  },
  {
   "cell_type": "code",
   "execution_count": 75,
   "id": "b9e627b1",
   "metadata": {},
   "outputs": [],
   "source": [
    "# Przykładowy słownik, dla którego będę testować\n",
    "klasa1h={\n",
    "    'Hipolit Hipopotamowicz': {\n",
    "        'język polski': [3,3,4],\n",
    "        'matematyka': [1,2,1,3,1],\n",
    "        'wf': [1,1,1,2]\n",
    "    },\n",
    "    'Ala Kotowska': {\n",
    "        'język polski': [3,2,4],\n",
    "        'matematyka': [1,2,1,3,5,6,6],\n",
    "        'plastyka': [2,4,1,1,1,1,1]\n",
    "    },\n",
    "    'Julia Mądra': {\n",
    "        'matematyka': [5,6,4],\n",
    "        'wf': [3,5,6]\n",
    "    },\n",
    "    'Roman Nieuk': {\n",
    "        'język angielski': [1,2,1,1,1],\n",
    "        'matematyka': [3,2,1,1,1]\n",
    "    }\n",
    "}"
   ]
  },
  {
   "cell_type": "code",
   "execution_count": 40,
   "id": "d4d1c3f3",
   "metadata": {},
   "outputs": [],
   "source": [
    "def zagrożenia(klasa):\n",
    "    # Utworzenie zagrożeń jako listy\n",
    "    lista_zagrożeń=[]\n",
    "    # Przechodzimy pętlą przez każdego ucznia\n",
    "    for n in klasa.items():\n",
    "        # Utworzenie pustej listy pomocnicze na przedmioty, z których dany uczeń ma zagrożenia\n",
    "        zag=[]\n",
    "        # Iterujemy przez słownik ocen danego ucznia\n",
    "        for m in n[1].items():\n",
    "            # Obliczamy średnią ocen z listy i jeśli jest mniejsza niż 2, do listy zagrożeń dodajemy nazwę przedmiotu, z którego jest zagrożony\n",
    "            if (sum(m[1])/len(m[1]))<2:\n",
    "                zag.append(m[0])\n",
    "        # Po wykonaniu pętli, jeśli lista zagrożeń nie jest pusta, w liście zagrożeń umieszczamy krotkę według schematu:\n",
    "        # (Imię ucznia, [zagrożenia]) – jest to krotka, co jest ważne!\n",
    "        if len(zag)>0:\n",
    "            lista_zagrożeń.append((n[0], zag))\n",
    "    \n",
    "    #Na koniec funkcji konwertujemy listę krotek na słownik\n",
    "    lista_zagrożeń=dict(lista_zagrożeń)\n",
    "                \n",
    "    return lista_zagrożeń"
   ]
  },
  {
   "cell_type": "code",
   "execution_count": 54,
   "id": "c1eeb6cb",
   "metadata": {},
   "outputs": [
    {
     "data": {
      "text/plain": [
       "{'Hipolit Hipopotamowicz': ['matematyka', 'wf'],\n",
       " 'Ala Kotowska': ['plastyka'],\n",
       " 'Roman Nieuk': ['język angielski', 'matematyka']}"
      ]
     },
     "execution_count": 54,
     "metadata": {},
     "output_type": "execute_result"
    }
   ],
   "source": [
    "zagrożenia(klasa1h)"
   ]
  },
  {
   "cell_type": "markdown",
   "id": "4ff63f58-b95b-4118-b0c0-496f7dd81044",
   "metadata": {},
   "source": [
    "#### podpunkt b\n",
    "Napisz funkcję `procent_zagrożonych(klasa)`, która zwróci procent osób mających choć jedno zagrożenie jako liczbę zmiennoprzecinkową z przedziału od $0$ do $100$. Rozwiązanie umieść w komórce poniżej."
   ]
  },
  {
   "cell_type": "code",
   "execution_count": 55,
   "id": "11270a51-0a3a-417d-a5a5-4768560fd72f",
   "metadata": {},
   "outputs": [],
   "source": [
    "def procent_zagrożonych(klasa):\n",
    "    # Zapisanie ilości uczniów na podstawie ilości kluczy w słowniku\n",
    "    ilość_uczniów=len(klasa)\n",
    "    # Zapisanie ilości uczniów mających zagrożenie\n",
    "    ilość_zagrożeń=len(zagrożenia(klasa))\n",
    "    \n",
    "    procent=(ilość_zagrożeń/ilość_uczniów)*100\n",
    "    return procent"
   ]
  },
  {
   "cell_type": "code",
   "execution_count": 56,
   "id": "3927ff22",
   "metadata": {},
   "outputs": [
    {
     "data": {
      "text/plain": [
       "75.0"
      ]
     },
     "execution_count": 56,
     "metadata": {},
     "output_type": "execute_result"
    }
   ],
   "source": [
    "procent_zagrożonych(klasa1h)"
   ]
  },
  {
   "cell_type": "markdown",
   "id": "d28424b3-4e38-4ed0-b081-e540e9950624",
   "metadata": {},
   "source": [
    "#### podpunkt c\n",
    "Napisz funkcję `osły_dardanelskie(klasa)`, która zwróci listę uczniów mających ex æquo najwięcej zagrożeń. Rozwiązanie umieść w komórce poniżej."
   ]
  },
  {
   "cell_type": "code",
   "execution_count": 93,
   "id": "7fd6724a-e5f8-423d-9e3e-b8130c3ddc5f",
   "metadata": {},
   "outputs": [],
   "source": [
    "def osły_dardanelskie(klasa):\n",
    "    # Jeśli w klasie nie ma zagrożonych, to funkcja od razu zwraca stosowną informację\n",
    "    if procent_zagrożonych(klasa)==0:\n",
    "        return 'Brak zagrożeń!'\n",
    "    # Pobieramy słownik z zagrożonymi osobami\n",
    "    zagrożeni=zagrożenia(klasa)\n",
    "    # Ustawiamy pierwotną liczbę zagrożeń na 0\n",
    "    najwięcej_zagrożeń=0\n",
    "    # Lista pomocnicza na wypisaniue uczniów i ich liczby zagrożeń\n",
    "    liczby_zagrożeń=[]\n",
    "    # Ostateczna lista na osły\n",
    "    osły=[]\n",
    "    # Pętla wpisująca do liczby_zagrożeń uczniów i ich liczby oraz ustalająca, jaka liczba zagrożeń jest największa\n",
    "    for z in zagrożeni.items():\n",
    "        if len(z[1])>najwięcej_zagrożeń:\n",
    "            najwięcej_zagrożeń=len(z[1])\n",
    "        liczby_zagrożeń.append((z[0], len(z[1])))\n",
    "    \n",
    "    # Do listy osły dodajemy imiona tych uczniów, których liczba zagrożeń jest największa\n",
    "    for l in liczby_zagrożeń:\n",
    "        if l[1]==najwięcej_zagrożeń:\n",
    "            osły.append(l[0])\n",
    "    return osły"
   ]
  },
  {
   "cell_type": "code",
   "execution_count": 94,
   "id": "f6073aad",
   "metadata": {},
   "outputs": [
    {
     "data": {
      "text/plain": [
       "['Hipolit Hipopotamowicz', 'Roman Nieuk']"
      ]
     },
     "execution_count": 94,
     "metadata": {},
     "output_type": "execute_result"
    }
   ],
   "source": [
    "osły_dardanelskie(klasa1h)"
   ]
  },
  {
   "cell_type": "markdown",
   "id": "73e32195",
   "metadata": {},
   "source": [
    "### Zadanie 5\n",
    "\n",
    "$n$-wymiarowa hiperkula o promieniu $r > 0$ i środku $S = (0, \\ldots, 0) \\in \\mathbb{R}^n$, to podzbiór $K_n(r)$ przestrzeni $\\mathbb{R}^n$ zdefiniowany następująco\n",
    "$$K_n(r) = \\left\\{x = (x_1, \\ldots, x_n) \\in \\mathbb{R}^n: \\sum_{i=1}^n x_i^2 < r^2 \\right\\}.$$\n",
    "Można pokazać, że objętość hiperkuli wynosi\n",
    "$$V_n(r) = \\frac{\\pi^{\\frac{n}{2}}}{\\Gamma\\left(\\frac{n}{2}+1\\right)}R^n,$$\n",
    "gdzie $\\Gamma$ to funkcja gamma Eulera zdefiniowana jako\n",
    "$$\\Gamma(x) = \\int_0^\\infty t^{x-1} e^{-t} \\,\\mathrm{d}t.$$\n",
    "\n",
    "#### podpunkt a\n",
    "\n",
    "Napisz funkcję `hiperkula(r, n)` obliczającą objętość $n$ wymiarowej hiperkuli o promieniu $r$. Korzystając z tej funkcji, wyznacz objętości kuli dla $r=1$ oraz $n=1, \\ldots, 10$. \n",
    "\n",
    "Podpowiedź: funkcję gamma Eulera znajdziesz w module `math`.\n",
    "\n",
    "Rozwiązanie umieść poniżej."
   ]
  },
  {
   "cell_type": "code",
   "execution_count": 95,
   "id": "60e563f3",
   "metadata": {},
   "outputs": [],
   "source": [
    "def hiperkula(r, n):\n",
    "    objętość=((math.pi**(n/2))/(math.gamma((n/2)+1)))*(r**n)\n",
    "    return objętość"
   ]
  },
  {
   "cell_type": "code",
   "execution_count": 97,
   "id": "f6fb3b4f",
   "metadata": {},
   "outputs": [
    {
     "data": {
      "text/plain": [
       "4.1887902047863905"
      ]
     },
     "execution_count": 97,
     "metadata": {},
     "output_type": "execute_result"
    }
   ],
   "source": [
    "hiperkula(1,3)"
   ]
  },
  {
   "cell_type": "markdown",
   "id": "207d2a60",
   "metadata": {},
   "source": [
    "#### podpunkt b\n",
    "\n",
    "Dla jakiej liczby wymiarów objętość hiperkuli o promieniu jeden jest największa?\n",
    "\n",
    "Podpowiedź: Załóżmy, że szukamy $n \\in \\{0, \\ldots, 99\\}$ minimalizującego wartość pewnej funkcji $f(n)$. Rozważ poniższy kod --- jak myślisz, wybranie minimum z listy par zadziała tak, jak tego oczekujemy?\n",
    "```python\n",
    "pary = {(f(n), n) for n in range(100)}\n",
    "min(pary)\n",
    "```\n",
    "\n",
    "Rozwiązanie umieść w komórce poniżej."
   ]
  },
  {
   "cell_type": "code",
   "execution_count": 108,
   "id": "64b58990",
   "metadata": {},
   "outputs": [
    {
     "name": "stdout",
     "output_type": "stream",
     "text": [
      "[99, 98, 97, 96, 95, 94, 93, 92, 91, 90, 89, 88, 87, 86, 85, 84, 83, 82, 81, 80, 79, 78, 77, 76, 75, 74, 73, 72, 71, 70, 69, 68, 67, 66, 65, 64, 63, 62, 61, 60, 59, 58, 57, 56, 55, 54, 53, 52, 51, 50, 49, 48, 47, 46, 45, 44, 43, 42, 41, 40, 39, 38, 37, 36, 35, 34, 33, 32, 31, 30, 29, 28, 27, 26, 25, 24, 23, 22, 21, 20, 19, 18, 17, 16, 15, 14, 13, 0, 12, 11, 1, 10, 2, 9, 8, 3, 7, 4, 6, 5]\n"
     ]
    }
   ],
   "source": [
    "# Sprawdzenie rozmiarów hiperkuli\n",
    "pary = {(hiperkula(1, n), n) for n in range(100)}\n",
    "# Posortowanie par\n",
    "posortowane=sorted(pary)\n",
    "numery=[p[1] for p in posortowane]\n",
    "print(numery)\n",
    "# Na tej postawie widać, że to sobie dalej tam maleje, a max to 5 wymiarów"
   ]
  },
  {
   "cell_type": "markdown",
   "id": "3d7a18a0",
   "metadata": {},
   "source": [
    "\n",
    "<div style=\"text-align: right\"> Powodzenia!<br><i>Zespół kursu Wstęp do programowania</i></div>"
   ]
  }
 ],
 "metadata": {
  "kernelspec": {
   "display_name": "Python 3 (ipykernel)",
   "language": "python",
   "name": "python3"
  },
  "language_info": {
   "codemirror_mode": {
    "name": "ipython",
    "version": 3
   },
   "file_extension": ".py",
   "mimetype": "text/x-python",
   "name": "python",
   "nbconvert_exporter": "python",
   "pygments_lexer": "ipython3",
   "version": "3.11.5"
  }
 },
 "nbformat": 4,
 "nbformat_minor": 5
}
