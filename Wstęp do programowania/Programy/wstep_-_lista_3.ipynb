{
 "cells": [
  {
   "cell_type": "markdown",
   "id": "817cd8f2",
   "metadata": {},
   "source": [
    "# Wstęp do programowania\n",
    "\n",
    "## Lista 3\n",
    "\n",
    "Uzupełnij swoje dane poniżej, następnie przeczytaj treść zadań i umieść rozwiązania w odpowidenich komórkach pozostawionych w tym celu pod treścią. Pamiętaj dbać o specyfikację, czyli nazwy zmiennych oraz odpowiednie rozmieszczenie komórek. Jeśli uruchomisz wszystkie komórki, dokument powinien działać bez błędów."
   ]
  },
  {
   "cell_type": "markdown",
   "id": "76926f19",
   "metadata": {},
   "source": [
    "  * **Imię:** Daria\n",
    "  * **Nazwisko:** Grzelak\n",
    "  * **Numer indeksu:** 277533"
   ]
  },
  {
   "cell_type": "markdown",
   "id": "f179d9a1",
   "metadata": {},
   "source": [
    "W rozwiązaniach zadań możesz korzystać z biblioteki `math`. Staraj się nie korzystać z materiału dotyczącego 4 wykładu, czyli funkcji oraz instrukcji sterujących. Spróbuj rozwiązać zadania wykorzystując struktury składane."
   ]
  },
  {
   "cell_type": "code",
   "execution_count": 2,
   "id": "2ceefa09",
   "metadata": {},
   "outputs": [],
   "source": [
    "import math"
   ]
  },
  {
   "cell_type": "markdown",
   "id": "7e8a62e4-59fc-42e0-959b-4bd9ebd14480",
   "metadata": {},
   "source": [
    "### Zadanie 1\n",
    "Zapoznaj się z dokumentacją funkcji `zip` oraz przykładem poniżej."
   ]
  },
  {
   "cell_type": "code",
   "execution_count": 3,
   "id": "3c4930a6-67ba-4a7c-9a9b-89e45231a4e2",
   "metadata": {},
   "outputs": [
    {
     "data": {
      "text/plain": [
       "[(1, 'a'), (2, 'b'), (3, 'c')]"
      ]
     },
     "execution_count": 3,
     "metadata": {},
     "output_type": "execute_result"
    }
   ],
   "source": [
    "lista = [1, 2, 3]\n",
    "inna = ['a', 'b', 'c']\n",
    "list(zip(lista, inna))"
   ]
  },
  {
   "cell_type": "markdown",
   "id": "f505ab50-5041-4281-9b4e-de3a30e48520",
   "metadata": {},
   "source": [
    "Opisz własnymi słowami, jak na podstawie listy `L`, powstanie lista\n",
    "```python\n",
    "list(zip(L[1:], L[:-1]))\n",
    "```\n",
    "\n",
    "Opis umieść w komórce poniżej. Możesz korzystać ze wzorów i fragmentów kodu."
   ]
  },
  {
   "cell_type": "markdown",
   "id": "310f6ab7-3e3c-425a-9920-4da4368825ae",
   "metadata": {},
   "source": [
    "Argumentami funkcji zip są dwa wycinki listy L. Pierwszy z wycinków bierze elementy od drugiego (indeks 1) do ostatniego, nastomiast drugi bierze elementy od pierwszego do przedostatniego (przed indeksem -1). Lista utworzona przy pomocy funkcji zip zwróci listę krotek, gdzie dla n indeksów w liście L krotki te będą wyglądać następująco:\n",
    "\n",
    "$$(L[1], L[0]), (L[2], L[1]), \\ldots, (L[n-1], L[n-2])$$"
   ]
  },
  {
   "cell_type": "markdown",
   "id": "3aa02a87-066e-4e27-a9d2-1405686dd1f8",
   "metadata": {},
   "source": [
    "### Zadanie 2\n",
    "\n",
    "Niech\n",
    "$$X_n = \\sum_{k=1}^n \\frac{(-1)^k}{k}.$$\n",
    "Zdefiniuj listę `L` wartości ciągu $X_n$ dla $n=1, \\ldots, 100$.\n",
    "\n",
    "Rozwiązanie umieść w komórce poniżej."
   ]
  },
  {
   "cell_type": "code",
   "execution_count": 4,
   "id": "f7c74720-fe8e-483d-a4c8-3703ea4c2bd8",
   "metadata": {},
   "outputs": [
    {
     "name": "stdout",
     "output_type": "stream",
     "text": [
      "[-1.0, -0.5, -0.8333333333333333, -0.5833333333333333, -0.7833333333333332, -0.6166666666666666, -0.7595238095238095, -0.6345238095238095, -0.7456349206349207, -0.6456349206349207, -0.7365440115440116, -0.6532106782106782, -0.7301337551337552, -0.6587051837051838, -0.7253718503718505, -0.6628718503718505, -0.7216953797836152, -0.6661398242280596, -0.718771403175428, -0.6687714031754279, -0.7163904507944756, -0.6709359053399302, -0.7144141662094954, -0.6727474995428288, -0.7127474995428288, -0.6742859610812904, -0.7113229981183273, -0.6756087124040416, -0.7100914710247312, -0.6767581376913979, -0.7090162022075269, -0.6777662022075269, -0.7080692325105572, -0.6786574678046748, -0.7072288963761034, -0.6794511185983256, -0.7064781456253526, -0.6801623561516684, -0.7058033817926941, -0.6808033817926941, -0.7051936256951331, -0.6813841018856093, -0.7046399158390977, -0.681912643111825, -0.7041348653340472, -0.6823957348992646, -0.7036723306439455, -0.6828389973106122, -0.7032471605759183, -0.6832471605759183, -0.7028550037131732, -0.683624234482404, -0.7024921590107058, -0.6839736404921873, -0.7021554586740055, -0.6842983158168626, -0.7018421754659854, -0.6846007961556405, -0.7015499486980133, -0.6848832820313466, -0.7012767246542975, -0.685147692396233, -0.7010207082692488, -0.6853957082692488, -0.7007803236538641, -0.685628808502349, -0.7005541816366774, -0.6858482992837363, -0.7003410529069246, -0.6860553386212104, -0.7001398456634639, -0.686250956774575, -0.6999495869115613, -0.6864360733980478, -0.6997694067313811, -0.686611511994539, -0.699598524981552, -0.6867780121610392, -0.6994362400091404, -0.6869362400091404, -0.6992819190214861, -0.6870867970702665, -0.6991349898413509, -0.687230227936589, -0.698994933818942, -0.6873670268421977, -0.698861279715761, -0.6874976433521246, -0.6987335984083044, -0.6876224872971933, -0.6986114982862043, -0.6877419330688129, -0.6984946212408559, -0.6878563233685155, -0.6983826391579893, -0.6879659724913226, -0.6982752508418381, -0.688071169209185, -0.698172179310195, -0.688172179310195]\n"
     ]
    }
   ],
   "source": [
    "N=range(1, 101) # Ustawienie N jako zakresu od 1 do 100 (101, bo liczy do ostatniej mniejszej liczby)\n",
    "Wyrazy=[(((-1)**k)/k) for k in N] # Obliczam wielkości ((-1)^k)/k dla k z zakresu 1–100\n",
    "L=[sum(Wyrazy[:n]) for n in N] # Wyznaczam wyrazy ciągu będącego sumą za pomocą wycinka – zawsze wycinam od indeksu 0 do n-1 włącznie\n",
    "print(L) # Wydrukowanie naszej sumy dla sprawdzenia poprawności"
   ]
  },
  {
   "cell_type": "markdown",
   "id": "87e972a7",
   "metadata": {},
   "source": [
    "### Zadanie 3\n",
    "\n",
    "#### podpunkt a\n",
    "\n",
    "Czy istnieje trójkąt pitagorejski (prostokątny o całkowitych długościach boków) o obwodzie równym 1000?\n",
    "\n",
    "Podpowiedź 1: spróbuj wygenerować wszystkie trójkąty o bokach całkowitych i obwodzie równym 1000 za pomocą list składanych --- czy znajdziesz wśród nich jakiś trójkąt prostokątny?\n",
    "\n",
    "Podpowiedź 2: rozważ następujący zbiór szukanych trójkątów zapisanych jako trójkę długości boków:\n",
    "$$\\{(a, b, c): a \\in \\{1, \\ldots, 1000\\}, b \\in \\{1, \\ldots, 1000\\}, c \\in \\{1, \\ldots, 1000\\}, a+b+c = 1000 \\text{ i } a^2 + b^2 = c^2 \\},$$\n",
    "czy potrafisz:\n",
    "\n",
    "  - Wyeliminować $c$ z tego wzoru, korzystając z tego, że znasz obwód trójkąta?\n",
    "  - Dodać warunek, który pozwoli traktować $(a, b, c)$ oraz $(b, a, c)$ jako ten sam trójkąt? Postaraj się zapisać go odpowiednio dobierając wartości, do jakich może należeć $b$.\n",
    "  - Wytłumaczyć, dlaczego wartości $a$ i $b$ nie muszą osiągać dużych wartości (np.: wartości $997$).\n",
    "  \n",
    "Rozwiązanie umieść w komórce poniżej."
   ]
  },
  {
   "cell_type": "code",
   "execution_count": 5,
   "id": "e0cae480",
   "metadata": {},
   "outputs": [
    {
     "name": "stdout",
     "output_type": "stream",
     "text": [
      "Trójkąty pitagorejskie o obwodzie 1000: {(200, 375, 425)}\n"
     ]
    }
   ],
   "source": [
    "stala=1000 # Ustawiam stały obwód 1000, żeby móc się odwołać do zmiennej (przydatne w przypadku chęci zmiany obwodu)\n",
    "# Tworzę zbiór krotek, w których elementy są posortowane rosnąco (dzięki temu zbiór sam eliminuje zduplikowane wartości)\n",
    "# w tych krotkach biorę a od 1 do 1000, b w zakresie od 1 do 1000-a i c, które jest równe 1000-a-b, dzięki czemu suma jest równa 1000\n",
    "# Na tym etapie nie przejmuję się tym, czy są to poprawne trójkąty\n",
    "\n",
    "trojkaty={tuple(sorted((a,b,stala-a-b))) for a in range(1, stala+1) for b in range(1, stala+1-a)}\n",
    "# Weryfikacja poprawności trójkątów – eliminuje trójkąty z wartościami 0\n",
    "# (wystarczy sprawdzić t[0], bo dwie pozostałe liczby są z zakresu od minimum 1)\n",
    "trojkaty={t for t in trojkaty if not t[0]==0 and (t[0]+t[1]>t[2])}\n",
    "\n",
    "# Odszukanie trójkątów pitagorejskich według twierdzenia Pitagorasa\n",
    "pitagorejskie={t for t in trojkaty if ((t[0]**2)+(t[1]**2)==(t[2]**2))}\n",
    "\n",
    "# Wydrukowanie stosownej informacji (nie ma tu sprawdzenia, czy zbiór nie jest pusty)\n",
    "print('Trójkąty pitagorejskie o obwodzie 1000: ' + str(pitagorejskie))"
   ]
  },
  {
   "cell_type": "markdown",
   "id": "9938790c",
   "metadata": {},
   "source": [
    "#### podpunkt b\n",
    "\n",
    "Spośród trójkątów pitagorejskich o najdłuższym boku nieprzekraczającym $50$ wybierz jeden o najmniejszym i największym polu powierzchni. Ile razy większy od najmniejszego jest największy trójkąt?\n",
    "\n",
    "Podpowiedź: pamiętaj, że możesz sortować listy za pomocą metody `sort` lub funkcji `sorted`.\n",
    "\n",
    "Rozwiązanie umieść w komórce poniżej."
   ]
  },
  {
   "cell_type": "code",
   "execution_count": 13,
   "id": "d4d1c3f3",
   "metadata": {},
   "outputs": [
    {
     "name": "stdout",
     "output_type": "stream",
     "text": [
      "Największy trójkąt jest 100.0 razy większy niż najmniejszy trójkąt.\n",
      "6.0\n"
     ]
    }
   ],
   "source": [
    "# Ustawienie maksymalnej długości boku na 50\n",
    "max=50\n",
    "\n",
    "# Odszukanie odpowiednich trójkątów na zasadzie:\n",
    "# C to największy bok, który nie może przekroczyć wielkości max\n",
    "# A i B są mniejsze od C, więc szukamy z zakresu 1 do c-1 (w programie indeks c)\n",
    "# Dodajemy tylko, jeśli suma a i b jest większa od c (taki trójkąt może istnieć)\n",
    "trojkaty2={tuple(sorted((a,b,c))) for c in range(1, max+1) for a in range(1, c) for b in range(1,c) if (a+b)>c}\n",
    "\n",
    "# Sprawdzenie warunku trójkąta prostokątnego\n",
    "pitagorejskie2={t for t in trojkaty2 if ((t[0]**2)+(t[1]**2)==(t[2]**2))}\n",
    "\n",
    "# Utworzenie posortowanej listy pól\n",
    "# (korzystamy z tego, że krotka z długościami boków jest posortowana i t[0] i t[1] są mniejsze od t[2])\n",
    "pola=sorted([(p[0]*p[1])/2 for p in pitagorejskie2])\n",
    "\n",
    "# Dzięki posortowaniu listy pierwszy jej element jest najmniejszym polem, a ostatni największym polem\n",
    "najmniejsze_pole=pola[0]\n",
    "najwieksze_pole=pola[-1]\n",
    "\n",
    "# Obliczenie ilorazu pól\n",
    "iloraz=najwieksze_pole/najmniejsze_pole\n",
    "\n",
    "# Wydrukowanie wyniku\n",
    "print('Największy trójkąt jest ' + str(iloraz) + ' razy większy niż najmniejszy trójkąt.')\n",
    "\n",
    "print(najmniejsze_pole)"
   ]
  },
  {
   "cell_type": "markdown",
   "id": "8dc2854c-223a-44ff-ae6c-a8f31e8af5bd",
   "metadata": {},
   "source": [
    "### Zadanie 4\n",
    "\n",
    "Załóżmy, że w zmiennej `S` znajduje się zbiór niektórych województw, natomiast w zmiennej `D` słownik, który każdemu województwu przyporządkowuje zbiór miast, w których znajduje się siedziba władz wojewódzkich. Obie zmienne zdefiniowane są w komórce poniżej."
   ]
  },
  {
   "cell_type": "code",
   "execution_count": 7,
   "id": "93258632-8095-41e5-ae56-9ad4d58c9aff",
   "metadata": {},
   "outputs": [],
   "source": [
    "S = {'dolnośląskie', 'lubuskie', 'wielkopolskie'}\n",
    "D = {\n",
    "    'dolnośląskie': {'Wrocław'},\n",
    "    'kujawsko-pomorskie': {'Bydgoszcz', 'Toruń'},\n",
    "    'lubelskie': {'Lublin'},\n",
    "    'lubuskie': {'Gorzów Wielkopolski', 'Zielona Góra'},\n",
    "    'łódzkie': {'Łódź'},\n",
    "    'małopolskie': {'Kraków'},\n",
    "    'mazowieckie': {'Warszawa'},\n",
    "    'opolskie': {'Opole'},\n",
    "    'podkarpackie': {'Rzeszów'},\n",
    "    'podlaskie': {'Białystok'},\n",
    "    'pomorskie': {'Gdańsk'},\n",
    "    'śląskie': {'Katowice'},\n",
    "    'świętokrzyskie': {'Kielce'},\n",
    "    'warmińsko-mazurskie': {'Olsztyn'},\n",
    "    'wielkopolskie': {'Poznań'},\n",
    "    'zachodniopomorskie': {'Szczecin'}\n",
    "}"
   ]
  },
  {
   "cell_type": "markdown",
   "id": "9e9220ce-9d75-41f4-aa44-b41ae1b971bc",
   "metadata": {},
   "source": [
    "#### podpunkt a\n",
    "\n",
    "Stwórz zbiór miast, w których znajdują się siedziby władz województw ze słownika `S`. Rozwiązanie umieść w komórce poniżej."
   ]
  },
  {
   "cell_type": "code",
   "execution_count": 8,
   "id": "cafa7f95-93cb-4273-a810-98bb0efd70b6",
   "metadata": {},
   "outputs": [
    {
     "name": "stdout",
     "output_type": "stream",
     "text": [
      "{'Gorzów Wielkopolski', 'Poznań', 'Zielona Góra', 'Wrocław'}\n"
     ]
    }
   ],
   "source": [
    "# Tworzymy listę z listami siedzib władz wojewódzkich na podstawie słownika D i zbioru S\n",
    "Miasta=[list(D[s]) for s in S]\n",
    "\n",
    "# To znaczy, że: najpierw bierzemy n w Miasta (czyli którąś z podlist), a potem x, który jest elementem którejś z podlist\n",
    "# Kod ten ma na celu przerobienie listy list na zbiór napisów\n",
    "Miasta={x for n in Miasta for x in n}\n",
    "\n",
    "#Wydrukowanie wyniku\n",
    "print(Miasta)"
   ]
  },
  {
   "cell_type": "markdown",
   "id": "c429d730-8799-41c2-b1dd-049578ea016e",
   "metadata": {},
   "source": [
    "#### podpunkt b\n",
    "\n",
    "Zdefiniujmy zbiór miast."
   ]
  },
  {
   "cell_type": "code",
   "execution_count": 9,
   "id": "2f19ca65-af76-429e-9b2b-f484a3cfaff9",
   "metadata": {},
   "outputs": [],
   "source": [
    "M = {'Wrocław', 'Opole', 'Zielona Góra', 'Gorzów Wielkopolski'}"
   ]
  },
  {
   "cell_type": "markdown",
   "id": "dc60b47b-d5ce-4053-ba02-4ff35ab4f7b9",
   "metadata": {},
   "source": [
    "Wykorzystując słownik `D` znajdź zbiór województw, których siedziby władz znajdują się w zbiorze `M`. Rozwiązanie umieść w komórce poniżej."
   ]
  },
  {
   "cell_type": "code",
   "execution_count": 10,
   "id": "4e0e1ee1-d4f7-4410-a814-b61992ece194",
   "metadata": {
    "scrolled": true
   },
   "outputs": [
    {
     "name": "stdout",
     "output_type": "stream",
     "text": [
      "{'dolnośląskie', 'opolskie', 'lubuskie'}\n"
     ]
    }
   ],
   "source": [
    "#Utworzenie listy z elementami słownika D\n",
    "Wojewodztwa=[d for d in D.items()]\n",
    "\n",
    "# Utworzenie zbioru, w którym:\n",
    "# 1. zapisujemy nazwy województw (w[0]) z listy województw\n",
    "# 2. Robimy to tylko pod warunkiem, że zbiór wartości dla danego elementu nie jest rozłączny z naszym zbiorem szukanych siedzib władz\n",
    "\n",
    "Woj={w[0] for w in Wojewodztwa if not w[1].isdisjoint(M)}\n",
    "\n",
    "# Wydrukowanie wyników\n",
    "print(Woj)"
   ]
  },
  {
   "cell_type": "markdown",
   "id": "e8f7447b-7c95-41d3-b87c-a1cf3c0ce71d",
   "metadata": {},
   "source": [
    "### Zadanie 5\n",
    "\n",
    "Stwórz słownik, w którym kluczami są kąty nachylenia do dodatniej półosi OX w stopniach, natomiast wartościami współrzędne 101 punktów równomiernie rozmieszczonych na okręgu jednostkowym. Przynajmniej jeden punkt powinien leżeć na dodatniej półosi OX. Rozwiązanie umieść w komórce poniżej."
   ]
  },
  {
   "cell_type": "code",
   "execution_count": 11,
   "id": "806c0f94-da09-42c1-9efb-18489efe084f",
   "metadata": {},
   "outputs": [],
   "source": [
    "# Utworzenie listy stopni przez pomnożenie 360/101 razy liczba od 0 do 100 (101 punktów)\n",
    "stopnie=[y*(360/101) for y in range (0,101)]\n",
    "\n",
    "# Utworzenie słownika punktów na następujących zasadach:\n",
    "# Kluczem jest dana miara w stopniach (stąd brak zamiany na radiany w liście wyżej)\n",
    "# Wartością jest krotka kolejno z cosinusem i sinusem\n",
    "# ponieważ dla okręgu jednostkowego (o promieniu 1) wartości tych funkcji są równe kolejno x i y punktu na tym okręgu i odpowiedniej mierze\n",
    "punkty = {s: (math.cos(math.radians(s)), math.sin(math.radians(s))) for s in stopnie}"
   ]
  },
  {
   "cell_type": "markdown",
   "id": "bddd6220-13ea-43fb-a42c-fdf89fc8168a",
   "metadata": {},
   "source": [
    "Sprawdź niektóre punkty, aby upewnić się, że dobrze rozwiązałeś zadanie."
   ]
  },
  {
   "cell_type": "code",
   "execution_count": 12,
   "id": "629789c8-7e80-453b-9f88-7e9b73e93105",
   "metadata": {},
   "outputs": [
    {
     "data": {
      "text/plain": [
       "True"
      ]
     },
     "execution_count": 12,
     "metadata": {},
     "output_type": "execute_result"
    }
   ],
   "source": [
    "punkty[0] == (1, 0)  # powinniśmy zobaczyć True"
   ]
  },
  {
   "cell_type": "markdown",
   "id": "3d7a18a0",
   "metadata": {},
   "source": [
    "\n",
    "<div style=\"text-align: right\"> Powodzenia!<br><i>Zespół kursu Wstęp do programowania</i></div>"
   ]
  }
 ],
 "metadata": {
  "kernelspec": {
   "display_name": "Python 3 (ipykernel)",
   "language": "python",
   "name": "python3"
  },
  "language_info": {
   "codemirror_mode": {
    "name": "ipython",
    "version": 3
   },
   "file_extension": ".py",
   "mimetype": "text/x-python",
   "name": "python",
   "nbconvert_exporter": "python",
   "pygments_lexer": "ipython3",
   "version": "3.11.5"
  }
 },
 "nbformat": 4,
 "nbformat_minor": 5
}
