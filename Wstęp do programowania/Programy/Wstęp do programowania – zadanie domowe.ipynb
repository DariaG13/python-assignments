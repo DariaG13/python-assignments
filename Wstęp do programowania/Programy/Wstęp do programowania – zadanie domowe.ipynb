{
 "cells": [
  {
   "cell_type": "markdown",
   "id": "a3d300c0",
   "metadata": {},
   "source": [
    "# Wzory dotyczące funkcji kwadratowej\n",
    "\n",
    "<p style=\"text-align:center\"><b>Autor:</b> Daria Grzelak (277533)</p>\n",
    "<hr>\n",
    "\n",
    "## Postać ogólna\n",
    "\n",
    "Postać ogólna funkcji kwadratowej:\n",
    "\n",
    "$$ f(x) = ax^2 + bx + c, a \\neq 0, x \\in \\mathbb{R} $$"
   ]
  },
  {
   "cell_type": "code",
   "execution_count": 7,
   "id": "1200dad5",
   "metadata": {},
   "outputs": [],
   "source": [
    "a=1\n",
    "b=2\n",
    "c=-8"
   ]
  },
  {
   "cell_type": "markdown",
   "id": "f3cb0f9f",
   "metadata": {},
   "source": [
    "## Wyróżnik\n",
    "\n",
    "Dla funkcji kwadratowej definiujemy jej wyróżnik:\n",
    "\n",
    "$$ \\Delta = b^2 - 4ac $$"
   ]
  },
  {
   "cell_type": "code",
   "execution_count": 8,
   "id": "1901b576",
   "metadata": {},
   "outputs": [
    {
     "name": "stdout",
     "output_type": "stream",
     "text": [
      "Wyróżnik funkcji kwadratowej jest równy: 36.\n"
     ]
    }
   ],
   "source": [
    "delta=(b**2)-4*a*c\n",
    "print('Wyróżnik funkcji kwadratowej jest równy: ' + str(delta) + '.')"
   ]
  },
  {
   "cell_type": "markdown",
   "id": "0253d27d",
   "metadata": {},
   "source": [
    "## Miejsca zerowe\n",
    "\n",
    "Na podstawie wartości wyróżnika możemy zdefiniować ilość rzeczywistych miejsc zerowych (ilość rzeczywistych pierwiastków równania $ax^2 + bx + c = 0$ funkcji kwadratowej:\n",
    "\n",
    "* jeśli $\\Delta > 0$, to wtedy funkcja posiada 2 miejsca zerowe (równanie ma 2 pierwiastki):\n",
    "    * $x_1 = \\frac{-b-\\sqrt{\\Delta}}{2a}$\n",
    "    * $x_2 = \\frac{-b+\\sqrt{\\Delta}}{2a}$\n",
    "* jeśli $\\Delta = 0$, to wtedy funkcja posiada 1 miejsce zerowe (równanie ma 1 pierwiastek):\n",
    "    * $x_1 = x_2 = \\frac{-b}{2a}$\n",
    "* jeśli $\\Delta < 0$, to wtedy funkcja nie posiada miejsc zerowych (równanie nie ma pierwiastków)."
   ]
  },
  {
   "cell_type": "code",
   "execution_count": 9,
   "id": "627d161e",
   "metadata": {},
   "outputs": [
    {
     "name": "stdout",
     "output_type": "stream",
     "text": [
      "Funkcja ma dwa miejsca zerowe: -4.0 oraz 2.0.\n"
     ]
    }
   ],
   "source": [
    "import math\n",
    "if delta > 0:\n",
    "    x1=(-b-math.sqrt(delta))/(2*a)\n",
    "    x2=(-b+math.sqrt(delta))/(2*a)\n",
    "    print('Funkcja ma dwa miejsca zerowe: ' + str(x1) + ' oraz ' + str(x2) + '.')\n",
    "elif delta == 0:\n",
    "    x0=(-b)/(2*a)\n",
    "    print('Funkcja ma jedno miejsce zerowe: ' + str(x0) + '.')\n",
    "elif delta < 0:\n",
    "    print('Funkcja nie ma miejsc zerowych.')\n",
    "else:\n",
    "    print('Delta obliczona niepoprawnie.')"
   ]
  },
  {
   "cell_type": "markdown",
   "id": "7d91ca53",
   "metadata": {},
   "source": [
    "## Postać iloczynowa\n",
    "\n",
    "Jeśli $\\Delta \\geq 0$, możemy zdefiniować jej postać iloczynową:\n",
    "\n",
    "$$ f(x) = a(x - x_1)(x - x_2) $$\n",
    "\n",
    "## Wzory Viéte'a\n",
    "\n",
    "Jeśli $\\Delta \\geq 0$, to zachodzą następujące wzory:\n",
    "\n",
    "$$x_1+x_2 = \\frac{-b}{a}$$\n",
    "\n",
    "$$x_1 \\cdot x_2 = \\frac{c}{a}$$"
   ]
  },
  {
   "cell_type": "code",
   "execution_count": 10,
   "id": "40b70a49",
   "metadata": {},
   "outputs": [
    {
     "name": "stdout",
     "output_type": "stream",
     "text": [
      "Suma miejsc zerowych funkcji f(x) jest równa -2.0, a ich iloczyn jest równy -8.0.\n"
     ]
    }
   ],
   "source": [
    "if delta>=0:\n",
    "    suma=(-b)/a\n",
    "    iloczyn=c/a\n",
    "    print('Suma miejsc zerowych funkcji f(x) jest równa ' + str(suma) + ', a ich iloczyn jest równy ' + str(iloczyn) + '.')\n",
    "elif delta<0:\n",
    "    print('Brak miejsc zerowych.')\n",
    "else:\n",
    "    print('Delta obliczona niepoprawnie.')\n",
    "    "
   ]
  },
  {
   "cell_type": "markdown",
   "id": "bb1149e6",
   "metadata": {},
   "source": [
    "## Wykres funkcji i postać kanoniczna\n",
    "\n",
    "Wykresem funkcji jest parabola o wierzchołku $W(p, q)$. Współrzędne te obliczamy z następujących wzorów:\n",
    "\n",
    "$$p = -\\frac{b}{2a}$$\n",
    "\n",
    "$$q = -\\frac{\\Delta}{4a}$$\n",
    "\n",
    "Wartości $p$ i $q$ można również zdefiniować inaczej:\n",
    "\n",
    "$$p = \\frac{x_1 + x_2}{2}$$\n",
    "\n",
    "$$q = f(p)$$"
   ]
  },
  {
   "cell_type": "code",
   "execution_count": 11,
   "id": "838f9001",
   "metadata": {},
   "outputs": [
    {
     "name": "stdout",
     "output_type": "stream",
     "text": [
      "Wierzchołek W paraboli ma współrzędne -1.0 i -9.0.\n"
     ]
    }
   ],
   "source": [
    "p=(-b)/(2*a)\n",
    "q=(-1*delta)/(4*a)\n",
    "print('Wierzchołek W paraboli ma współrzędne ' + str(p) + ' i ' + str(q) +'.')"
   ]
  },
  {
   "cell_type": "markdown",
   "id": "854d6de6",
   "metadata": {},
   "source": [
    "Jeśli $a > 0$, to ramiona paraboli są skierowane w górę, natomiast jeśli $a < 0$, to ramiona paraboli są skierowane w dół."
   ]
  },
  {
   "cell_type": "code",
   "execution_count": 12,
   "id": "cc1d31db",
   "metadata": {},
   "outputs": [
    {
     "name": "stdout",
     "output_type": "stream",
     "text": [
      "Ramiona paraboli są skierowane w górę.\n"
     ]
    }
   ],
   "source": [
    "if a>0:\n",
    "    print('Ramiona paraboli są skierowane w górę.')\n",
    "elif a<0:\n",
    "    print('Ramiona paraboli są skierowane w dół.')\n",
    "elif a==0:\n",
    "    print('To nie jest funkcja kwadratowa, tylko liniowa!')\n",
    "else:\n",
    "    print('Podano niepoprawne dane.')"
   ]
  },
  {
   "cell_type": "markdown",
   "id": "146b2eda",
   "metadata": {},
   "source": [
    "Punkt przecięcia paraboli z osią Y jest równy $(0, f(0)=c)$."
   ]
  },
  {
   "cell_type": "code",
   "execution_count": 27,
   "id": "ba00104a",
   "metadata": {},
   "outputs": [
    {
     "name": "stdout",
     "output_type": "stream",
     "text": [
      "Punkt przecięcia tej paraboli z osią Y jest równy (0, -8)\n"
     ]
    }
   ],
   "source": [
    "print('Punkt przecięcia tej paraboli z osią Y jest równy (0, '+ str(c) +')')"
   ]
  },
  {
   "cell_type": "markdown",
   "id": "850057f3",
   "metadata": {},
   "source": [
    "Dla każdej funkcji kwadratowej możemy podać jej postać kanoniczną o postaci:\n",
    "\n",
    "$$f(x) = a(x - p)^2 + q $$\n",
    "\n",
    "## Wartość minimalna i maksymalna\n",
    "\n",
    "Znając postać kanoniczną funkcji, możemy podać jej wartości minimalną lub maksymalną:\n",
    "\n",
    "* jeśli $a > 0$, wtedy $f_{min} = q$, $f_{max}$ nie istnieje (wartości osiągają nieskończoność),\n",
    "* jeśli $a < 0$, wtedy $f_{max} = q$, $f_{min}$ nie istnieje (wartości osiągają minus nieskończoność)."
   ]
  },
  {
   "cell_type": "code",
   "execution_count": 14,
   "id": "46236770",
   "metadata": {},
   "outputs": [
    {
     "name": "stdout",
     "output_type": "stream",
     "text": [
      "Wartość minimalna funkcji jest równa -9.0, wartość maksymalna nie istnieje.\n"
     ]
    }
   ],
   "source": [
    "if a>0:\n",
    "    print('Wartość minimalna funkcji jest równa ' + str(q) + ', wartość maksymalna nie istnieje.')\n",
    "elif a<0:\n",
    "    print('Wartość maksymalna funkcji jest równa ' + str(q) + ', wartość minimalna nie istnieje.')\n",
    "elif a==0:\n",
    "    print('To nie jest funkcja kwadratowa, tylko liniowa, zatem nie posiada wartości minimalnej ani maksymalnej.')\n",
    "else:\n",
    "    print('Podano niepoprawne dane.')"
   ]
  },
  {
   "cell_type": "markdown",
   "id": "8f435783",
   "metadata": {},
   "source": [
    "Jeśli chcemy policzyć wartości maksymalną i minimalną w danym przedziale $\\left[m,n\\right]$, należy wziąć pod uwagę wartości graniczne danego przedziału oraz $p$, jeśli należy do tego przedziału."
   ]
  },
  {
   "cell_type": "code",
   "execution_count": 26,
   "id": "66baedc4",
   "metadata": {},
   "outputs": [
    {
     "name": "stdout",
     "output_type": "stream",
     "text": [
      "Wartość minimalna tej funkcji to -9.0, a maksymalna to 72.\n"
     ]
    }
   ],
   "source": [
    "m=-5\n",
    "n=8\n",
    "\n",
    "fm=a*m**2+b*m+c\n",
    "fn=a*n**2+b*n+c\n",
    "\n",
    "if a>0:\n",
    "    if p>m and p<n:\n",
    "        fmin=q\n",
    "        fmax=max(fm,fn)\n",
    "    else:\n",
    "        fmin=min(fm,fn)\n",
    "        fmax=max(fm,fn)\n",
    "    print('Wartość minimalna tej funkcji to ' + str(fmin) + ', a maksymalna to ' + str(fmax) + '.')\n",
    "elif a<0:\n",
    "    if p>m and p<n:\n",
    "        fmin=min(fm,fn)\n",
    "        fmax=q\n",
    "    else:\n",
    "        fmin=min(fm,fn)\n",
    "        fmax=max(fm,fn)\n",
    "    print('Wartość minimalna tej funkcji to ' + str(fmin) + ', a maksymalna to ' + str(fmax) + '.')\n",
    "elif a==0:\n",
    "    print('To nie jest funkcja kwadratowa, tylko liniowa!')\n",
    "else:\n",
    "    print('Podano niepoprawne dane.')"
   ]
  }
 ],
 "metadata": {
  "kernelspec": {
   "display_name": "Python 3 (ipykernel)",
   "language": "python",
   "name": "python3"
  },
  "language_info": {
   "codemirror_mode": {
    "name": "ipython",
    "version": 3
   },
   "file_extension": ".py",
   "mimetype": "text/x-python",
   "name": "python",
   "nbconvert_exporter": "python",
   "pygments_lexer": "ipython3",
   "version": "3.9.12"
  }
 },
 "nbformat": 4,
 "nbformat_minor": 5
}
