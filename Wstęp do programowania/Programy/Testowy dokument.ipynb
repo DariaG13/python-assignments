{
 "cells": [
  {
   "cell_type": "markdown",
   "id": "c9f7d250",
   "metadata": {},
   "source": [
    "# Mój pierwszy dokument\n",
    "\n",
    "Oto mój pierwszy dokument. Mogę stosować *pochylenie* oraz **pogrubienie**,\n",
    "a nawet matematykę $\\sqrt{2}$ i wypunktowania:\n",
    "1. pierwszy,\n",
    "2. drugi,\n",
    "3. trzeci punkt!"
   ]
  },
  {
   "cell_type": "code",
   "execution_count": 1,
   "id": "ebedbcc7",
   "metadata": {},
   "outputs": [
    {
     "data": {
      "text/plain": [
       "4"
      ]
     },
     "execution_count": 1,
     "metadata": {},
     "output_type": "execute_result"
    }
   ],
   "source": [
    "2+2"
   ]
  },
  {
   "cell_type": "code",
   "execution_count": 1,
   "id": "089ddcfe",
   "metadata": {},
   "outputs": [
    {
     "ename": "SyntaxError",
     "evalue": "invalid character '”' (U+201D) (3380346727.py, line 1)",
     "output_type": "error",
     "traceback": [
      "\u001b[1;36m  Cell \u001b[1;32mIn[1], line 1\u001b[1;36m\u001b[0m\n\u001b[1;33m    print(”\\U0001F408 kosztował 30\\xBC i to w \\u20AC!”)\u001b[0m\n\u001b[1;37m          ^\u001b[0m\n\u001b[1;31mSyntaxError\u001b[0m\u001b[1;31m:\u001b[0m invalid character '”' (U+201D)\n"
     ]
    }
   ],
   "source": [
    "print(”\\U0001F408 kosztował 30\\xBC i to w \\u20AC!”)"
   ]
  },
  {
   "cell_type": "code",
   "execution_count": 2,
   "id": "9b80c2d9",
   "metadata": {},
   "outputs": [
    {
     "name": "stdout",
     "output_type": "stream",
     "text": [
      "🐈 kosztował 30¼ i to w €!\n"
     ]
    }
   ],
   "source": [
    "print(\"\\U0001F408 kosztował 30\\xBC i to w \\u20AC!\")\n"
   ]
  },
  {
   "cell_type": "code",
   "execution_count": null,
   "id": "38516cc0",
   "metadata": {},
   "outputs": [],
   "source": []
  }
 ],
 "metadata": {
  "kernelspec": {
   "display_name": "Python 3 (ipykernel)",
   "language": "python",
   "name": "python3"
  },
  "language_info": {
   "codemirror_mode": {
    "name": "ipython",
    "version": 3
   },
   "file_extension": ".py",
   "mimetype": "text/x-python",
   "name": "python",
   "nbconvert_exporter": "python",
   "pygments_lexer": "ipython3",
   "version": "3.11.5"
  }
 },
 "nbformat": 4,
 "nbformat_minor": 5
}
