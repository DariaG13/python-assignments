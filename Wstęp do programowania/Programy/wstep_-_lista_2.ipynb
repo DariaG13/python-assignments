{
 "cells": [
  {
   "cell_type": "markdown",
   "id": "817cd8f2",
   "metadata": {},
   "source": [
    "# Wstęp do programowania\n",
    "\n",
    "## Lista 2\n",
    "\n",
    "Uzupełnij swoje dane poniżej, następnie przeczytaj treść zadań i umieść rozwiązania w odpowidenich komórkach pozostawionych w tym celu pod treścią. Pamiętaj dbać o specyfikację, czyli nazwy zmiennych oraz odpowiednie rozmieszczenie komórek. Jeśli uruchomisz wszystkie komórki, dokument powinien działać bez błędów."
   ]
  },
  {
   "cell_type": "markdown",
   "id": "76926f19",
   "metadata": {},
   "source": [
    "  * **Imię:** Daria\n",
    "  * **Nazwisko:** Grzelak\n",
    "  * **Numer indeksu:** 277533"
   ]
  },
  {
   "cell_type": "markdown",
   "id": "ce255a8c",
   "metadata": {},
   "source": [
    "## Zadanie 1\n",
    "\n",
    "Przeanalizuj program"
   ]
  },
  {
   "cell_type": "code",
   "execution_count": null,
   "id": "6919864c",
   "metadata": {},
   "outputs": [],
   "source": [
    "wiersz1 = \"***\"*8 + \"*\\n\"\n",
    "wiersz2 = \"*  \"*8 + \"*\\n\"\n",
    "szachownica = (wiersz1 + wiersz2)*8 + wiersz1\n",
    "print(szachownica)"
   ]
  },
  {
   "cell_type": "markdown",
   "id": "ab3366ad",
   "metadata": {},
   "source": [
    "### Podpunkt a\n",
    "\n",
    "Zmodyfikuj program tak, aby uzyskać szachownicę o wymiarach $5\\times5$."
   ]
  },
  {
   "cell_type": "code",
   "execution_count": null,
   "id": "a7b3f55b",
   "metadata": {},
   "outputs": [],
   "source": [
    "wiersz1 = \"***\"*5 + \"*\\n\"\n",
    "wiersz2 = \"*  \"*5 + \"*\\n\"\n",
    "szachownica = (wiersz1 + wiersz2)*5 + wiersz1\n",
    "print(szachownica)"
   ]
  },
  {
   "cell_type": "markdown",
   "id": "65a80939",
   "metadata": {},
   "source": [
    "### Podpunkt b\n",
    "\n",
    "Zmodyfikuj program tak, aby uzyskać szachownicę o wymiarach $12\\times 9$."
   ]
  },
  {
   "cell_type": "code",
   "execution_count": null,
   "id": "93c205ae",
   "metadata": {},
   "outputs": [],
   "source": [
    "wiersz1 = \"***\"*12 + \"*\\n\"\n",
    "wiersz2 = \"*  \"*12 + \"*\\n\"\n",
    "szachownica = (wiersz1 + wiersz2)*9 + wiersz1\n",
    "print(szachownica)"
   ]
  },
  {
   "cell_type": "markdown",
   "id": "73e32195",
   "metadata": {},
   "source": [
    "### Podpunkt c\n",
    "\n",
    "Stwórz zmienną `szachownica`, która będzie zawierać napis utworzony na podstawie dwóch liczb całkowitych zapisanych w zmiennych `n` oraz `m`. Wypisanie zmiennej na ekranie\n",
    "\n",
    "```python\n",
    "print(szachownica)\n",
    "```\n",
    "powinno dać w rezultacie pojawienie się szachownicy rozmiaru $2n \\times 2m$ ($2n$ wierszy, $2m$ kolumn), na przykład dla $n=2$ oraz $m=3$ szachownica powinna wyglądać następująco\n",
    "```\n",
    "▨▢▨▢▨▢\n",
    "▢▨▢▨▢▨\n",
    "▨▢▨▢▨▢\n",
    "▢▨▢▨▢▨\n",
    "```\n",
    "Użyj symboli Unicode [25A8](https://unicode-table.com/en/25A8/) oraz [25A2](https://unicode-table.com/en/25A2/). Lewe górne pole szachownicy powinno być czarne (zakreskowane)."
   ]
  },
  {
   "cell_type": "code",
   "execution_count": null,
   "id": "5ba69fcd",
   "metadata": {},
   "outputs": [],
   "source": [
    "n = 2\n",
    "m = 3"
   ]
  },
  {
   "cell_type": "markdown",
   "id": "fc78b1ee",
   "metadata": {},
   "source": [
    "Rozwiązanie umieść w komórce poniżej."
   ]
  },
  {
   "cell_type": "code",
   "execution_count": null,
   "id": "0e5571e0",
   "metadata": {},
   "outputs": [],
   "source": [
    "wierszS1 = \"\\u25A8\\u25A2\"*m+\"\\n\"\n",
    "wierszS2 = \"\\u25A2\\u25A8\"*m+\"\\n\"\n",
    "szachownica = (wierszS1+wierszS2)*n\n",
    "print(szachownica)"
   ]
  },
  {
   "cell_type": "markdown",
   "id": "0cbdc8ac",
   "metadata": {},
   "source": [
    "## Zadanie 2\n",
    "\n",
    "Oprócz napisów interpolowanych, niekiedy używamy tak zwanej specyfikacji formatu oraz metody `format`. Zapoznaj się [dokumentacją](https://docs.python.org/3/library/string.html#formatstrings) oraz przykładem poniżej."
   ]
  },
  {
   "cell_type": "code",
   "execution_count": null,
   "id": "96ae9be7",
   "metadata": {},
   "outputs": [],
   "source": [
    "\"Wartość x jest równa {x}\".format(x=7)"
   ]
  },
  {
   "cell_type": "code",
   "execution_count": null,
   "id": "af3dea6c",
   "metadata": {},
   "outputs": [],
   "source": [
    "\"Wartość {x} dziesiętnie to {x:b} binarnie\".format(x=2)"
   ]
  },
  {
   "cell_type": "code",
   "execution_count": null,
   "id": "ccd0cd69",
   "metadata": {},
   "outputs": [],
   "source": [
    "specyfikacja = \"Punkt({x}, {y})\"\n",
    "print(specyfikacja.format(x=3, y=7))\n",
    "print(specyfikacja.format(x=-3, y=\"<brak danych>\"))"
   ]
  },
  {
   "cell_type": "markdown",
   "id": "f2d06043",
   "metadata": {},
   "source": [
    "Zaletą tego rozwiązania jest to, że jedna specyfikacja może być użyta do utworzenia wielu napisów na jej podstawie.\n",
    "\n",
    "### Podpunkt a\n",
    "\n",
    "Stwórz specyfikację tak, aby liczby przekazane przez zmienną `x` pojawiły się w formacie dziesiętnym i szesnastkowym."
   ]
  },
  {
   "cell_type": "code",
   "execution_count": null,
   "id": "60e563f3",
   "metadata": {},
   "outputs": [],
   "source": [
    "specyfikacja = \"Liczba dziesiętna {x} w formacie szesnastkowym jest równa {x:X}.\"\n",
    "print(specyfikacja.format(x=255))\n",
    "print(specyfikacja.format(x=10))"
   ]
  },
  {
   "cell_type": "markdown",
   "id": "3369d128",
   "metadata": {},
   "source": [
    "### Podpunkt b\n",
    "\n",
    "Stwórz specyfikację tak, aby liczby przekazane przez zmienną `x` pojawiły się z dokładnością do dwóch miejsc po przecinku (przecinek będzie zapisany jako kropka, zgodnie ze stylem anglosaskim)."
   ]
  },
  {
   "cell_type": "code",
   "execution_count": null,
   "id": "89b68de3",
   "metadata": {},
   "outputs": [],
   "source": [
    "specyfikacja = \"Zaokrąglenie liczby {x} do dwóch miejsc po przecinku wynosi: {x:.2f}\"\n",
    "print(specyfikacja.format(x=3.14))\n",
    "print(specyfikacja.format(x=3))\n",
    "print(specyfikacja.format(x=12.123456))"
   ]
  },
  {
   "cell_type": "markdown",
   "id": "69837572",
   "metadata": {},
   "source": [
    "### Podpunkt c\n",
    "Stwórz specyfikację tak, aby liczby przekazane przez zmienne `x` w kilku wywołaniach, były wyrównane w pionie na przecinku i miały dwa miejsca po przecinku. Możesz założyć, że wszystkie liczby są mniejsze od `100000`."
   ]
  },
  {
   "cell_type": "code",
   "execution_count": 15,
   "id": "1de0fa22",
   "metadata": {},
   "outputs": [
    {
     "name": "stdout",
     "output_type": "stream",
     "text": [
      "    3.14\n",
      "   30.00\n",
      "12345.12\n"
     ]
    }
   ],
   "source": [
    "specyfikacja = \"{x:>8.2f}\"\n",
    "print(specyfikacja.format(x=3.14))\n",
    "print(specyfikacja.format(x=30))\n",
    "print(specyfikacja.format(x=12345.123456))"
   ]
  },
  {
   "cell_type": "markdown",
   "id": "4c35a34b",
   "metadata": {},
   "source": [
    "## Zadanie 3\n",
    "\n",
    "Przeanalizuj program z wykładu."
   ]
  },
  {
   "cell_type": "code",
   "execution_count": null,
   "id": "c7a59ebe",
   "metadata": {},
   "outputs": [],
   "source": [
    "imię = input(\"Jak masz na imię? \")\n",
    "print(\"Witaj \" + imię + \", miło Cię widzieć!\")"
   ]
  },
  {
   "cell_type": "markdown",
   "id": "d6adc223",
   "metadata": {},
   "source": [
    "### Podpunkt a\n",
    "\n",
    "Zmodyfikuj program tak, aby pojawiła się dodatkowa linia, brzmiąca:\n",
    "```\n",
    "Czy wiedziałeś, że twoje imie czytane od końca, to ...?\n",
    "```\n",
    "W tym podpunkcie nie musisz przejmować się wielkością liter."
   ]
  },
  {
   "cell_type": "code",
   "execution_count": 3,
   "id": "15174b8b",
   "metadata": {},
   "outputs": [
    {
     "name": "stdout",
     "output_type": "stream",
     "text": [
      "Jak masz na imię? Daria\n",
      "Witaj Daria, miło Cię widzieć!\n",
      "Czy wiedziałeś, że twoje imię czytane od końca, to airaD?\n"
     ]
    }
   ],
   "source": [
    "imię2 = input(\"Jak masz na imię? \")\n",
    "print(\"Witaj \" + imię2 + \", miło Cię widzieć!\")\n",
    "print(f\"Czy wiedziałeś, że twoje imię czytane od końca, to {imię2[::-1]}?\")\n"
   ]
  },
  {
   "cell_type": "markdown",
   "id": "5f37896f",
   "metadata": {},
   "source": [
    "### Podpunkt b\n",
    "Zmodyfikuj program tak, aby zarazem imię, jak i imię czytane od końca zaczynało się wielką literą i aby były to jedyne wielkie litery w słowie. Aby odnaleźć odpowiednie metody, zapoznaj się z [dokumentacją](https://docs.python.org/3/library/stdtypes.html#string-methods)."
   ]
  },
  {
   "cell_type": "code",
   "execution_count": 18,
   "id": "968f5008",
   "metadata": {},
   "outputs": [
    {
     "name": "stdout",
     "output_type": "stream",
     "text": [
      "Jak masz na imię? Hermenegilda\n",
      "Witaj, Hermenegilda, czy wiedziałeś, że Twoje imię czytane od końca to Adligenemreh?\n"
     ]
    }
   ],
   "source": [
    "imię3 = input(\"Jak masz na imię? \")\n",
    "print(f\"Witaj, {imię3.capitalize()}, czy wiedziałeś, że Twoje imię czytane od końca to {imię3[::-1].capitalize()}?\")"
   ]
  },
  {
   "cell_type": "markdown",
   "id": "fbca0e97",
   "metadata": {},
   "source": [
    "## Zadanie 4\n",
    "\n",
    "Napisz program, który zapyta użytkownika o dwie liczby całkowite: $x$ oraz $y$, a następnie wypisze kolejno wynik ich dodawania, odejmowania, mnożenia, dzielenia, dzielenia z resztą oraz potęgowania. Dla operacji nieprzemiennych podaj oba możliwe warianty. Pamiętaj o tym, że funkcja `input` zwraca napisy."
   ]
  },
  {
   "cell_type": "code",
   "execution_count": 29,
   "id": "5e4b83a7",
   "metadata": {},
   "outputs": [
    {
     "name": "stdout",
     "output_type": "stream",
     "text": [
      "Podaj x: 2\n",
      "Podaj y: 5\n",
      "x + y = 7.0\n",
      "x - y = -3.0\n",
      "y - x = 3.0\n",
      "x * y = 10.0\n",
      "x / y = 0.4 = 0.0 r. 2.0\n",
      "y / x = 2.5 = 2.0 r. 1.0\n",
      "x ^ y = 32.0\n",
      "y ^ x = 25.0\n"
     ]
    }
   ],
   "source": [
    "x = input(\"Podaj x: \")\n",
    "y = input(\"Podaj y: \")\n",
    "x = float(x)\n",
    "y = float(y)\n",
    "print(f\"\"\"x + y = {x+y}\n",
    "x - y = {x-y}\n",
    "y - x = {y-x}\n",
    "x * y = {x*y}\n",
    "x / y = {x/y} = {x//y} r. {x%y}\n",
    "y / x = {y/x} = {y//x} r. {y%x}\n",
    "x ^ y = {x**y}\n",
    "y ^ x = {y**x}\"\"\")"
   ]
  },
  {
   "cell_type": "markdown",
   "id": "cab9f191",
   "metadata": {},
   "source": [
    "## Zadanie 5\n",
    "\n",
    "Przypomnij sobie rozwiązanie zadania 3b z poprzedniej listy. Napisz program, który zapyta użytkownika o trzy liczby `D`, `M` oraz `R` oznaczające kolejno dzień, miesiąc oraz rok. Następnie w wyniku wypisz jedynie dzień tygodnia. Przykładowe użycie, w którym trzy pierwsze linie to wypełniony formularz a czwarta to wynik działania to:\n",
    "```\n",
    "Podaj dzień: 20\n",
    "Podaj miesiąc: 10\n",
    "Podaj rok: 2022\n",
    "Dzień tygodnia to czwartek.\n",
    "```"
   ]
  },
  {
   "cell_type": "code",
   "execution_count": 32,
   "id": "109c368a",
   "metadata": {},
   "outputs": [
    {
     "name": "stdout",
     "output_type": "stream",
     "text": [
      "Podaj dzień: 16\n",
      "Podaj miesiąc: 10\n",
      "Podaj rok: 2023\n",
      "Dzień tygodnia to poniedziałek.\n"
     ]
    }
   ],
   "source": [
    "D = input(\"Podaj dzień: \")\n",
    "M = input(\"Podaj miesiąc: \")\n",
    "R = input(\"Podaj rok: \")\n",
    "\n",
    "D=int(D)\n",
    "M=int(M)\n",
    "R=int(R)\n",
    "\n",
    "\n",
    "a=(14-M)//12\n",
    "y=R+4800-a\n",
    "m=M+12*a-3\n",
    "\n",
    "dzien = D+(153*m+2)//5+365*y+y//4-y//100+y//400-32045\n",
    "dzientygodnia = dzien%7+1\n",
    "dnitygodnia={1: 'poniedziałek', 2: 'wtorek', 3: 'środa', 4: 'czwartek', 5: 'piątek', 6: 'sobota', 7: 'niedziela'}\n",
    "\n",
    "print(f\"Dzień tygodnia to {dnitygodnia[dzientygodnia]}.\")"
   ]
  },
  {
   "cell_type": "markdown",
   "id": "3d7a18a0",
   "metadata": {},
   "source": [
    "<div style=\"text-align: right\"> Powodzenia!<br><i>Zespół kursu Wstęp do programowania</i></div>"
   ]
  },
  {
   "cell_type": "code",
   "execution_count": null,
   "id": "e342db8b-d03a-4046-b2db-289272bb9fc4",
   "metadata": {},
   "outputs": [],
   "source": []
  }
 ],
 "metadata": {
  "kernelspec": {
   "display_name": "Python 3 (ipykernel)",
   "language": "python",
   "name": "python3"
  },
  "language_info": {
   "codemirror_mode": {
    "name": "ipython",
    "version": 3
   },
   "file_extension": ".py",
   "mimetype": "text/x-python",
   "name": "python",
   "nbconvert_exporter": "python",
   "pygments_lexer": "ipython3",
   "version": "3.9.12"
  }
 },
 "nbformat": 4,
 "nbformat_minor": 5
}
