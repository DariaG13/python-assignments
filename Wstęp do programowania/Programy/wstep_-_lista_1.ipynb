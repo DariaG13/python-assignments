{
 "cells": [
  {
   "cell_type": "markdown",
   "id": "9a140fbd",
   "metadata": {},
   "source": [
    "# Wstęp do programowania\n",
    "\n",
    "## Lista 1\n",
    "\n",
    "Uzupełnij swoje dane poniżej, następnie przeczytaj treść zadań i umieść rozwiązania w odpowidenich komórkach pozostawionych w tym celu pod treścią. Pamiętaj dbać o specyfikację, czyli nazwy zmiennych oraz odpowiednie rozmieszczenie komórek. Jeśli uruchomisz wszystkie komórki, dokument powinien działać bez błędów."
   ]
  },
  {
   "cell_type": "markdown",
   "id": "92a9ca1b",
   "metadata": {},
   "source": [
    "  * **Imię:** Daria\n",
    "  * **Nazwisko:** Grzelak\n",
    "  * **Numer indeksu:** 277533"
   ]
  },
  {
   "cell_type": "markdown",
   "id": "c5095a79",
   "metadata": {},
   "source": [
    "### Zadanie 1\n",
    "\n",
    "Zapoznaj się z [dokumentacją](https://docs.python.org/3/reference/expressions.html#operator-precedence) opisującą kolejność wykonywania oraz wiązanie operatorów. \n",
    "\n",
    "#### Podpunkt a\n",
    "\n",
    "Zaproponuj fragment kodu pokazujący, że operator potęgowania `**` ma wyższy priorytet niż operator mnożenia."
   ]
  },
  {
   "cell_type": "code",
   "execution_count": 2,
   "id": "6d7237af",
   "metadata": {
    "scrolled": false
   },
   "outputs": [
    {
     "data": {
      "text/plain": [
       "True"
      ]
     },
     "execution_count": 2,
     "metadata": {},
     "output_type": "execute_result"
    }
   ],
   "source": [
    "2*3**4==2*(3**4)"
   ]
  },
  {
   "cell_type": "code",
   "execution_count": 3,
   "id": "769da22b",
   "metadata": {},
   "outputs": [
    {
     "data": {
      "text/plain": [
       "False"
      ]
     },
     "execution_count": 3,
     "metadata": {},
     "output_type": "execute_result"
    }
   ],
   "source": [
    "2*3**4==(2*3)**4"
   ]
  },
  {
   "cell_type": "markdown",
   "id": "bd9e2e40",
   "metadata": {},
   "source": [
    "#### Podpunkt b\n",
    "\n",
    "O wiązaniu w lewo mówimy, gdy wyrażenie `a + b + c` jest rozumiane jako `(a + b) + c`, natomiast w prawo, gdy `a + b + c = a + (b + c)`. Jest to istotne, ponieważ jak wiemy z wykładu, operacje zmiennoprzecinkowe nie muszą być łączne, zatem oba nawiasowania mogą dać różne wyniki nawet dla dodawania (które w języku Python wiąże w lewo).\n",
    "\n",
    "Dobierz przykłady pokazujące, że operator potęgowania wiąże w prawo."
   ]
  },
  {
   "cell_type": "code",
   "execution_count": 4,
   "id": "87fd32c2",
   "metadata": {
    "scrolled": true
   },
   "outputs": [
    {
     "data": {
      "text/plain": [
       "True"
      ]
     },
     "execution_count": 4,
     "metadata": {},
     "output_type": "execute_result"
    }
   ],
   "source": [
    "2**3**4==2**(3**4)"
   ]
  },
  {
   "cell_type": "code",
   "execution_count": 5,
   "id": "2ffe6b80",
   "metadata": {},
   "outputs": [
    {
     "data": {
      "text/plain": [
       "False"
      ]
     },
     "execution_count": 5,
     "metadata": {},
     "output_type": "execute_result"
    }
   ],
   "source": [
    "2**3**4==(2**3)**4"
   ]
  },
  {
   "cell_type": "markdown",
   "id": "9a4c4374",
   "metadata": {},
   "source": [
    "### Zadanie 2\n",
    "\n",
    "Oblicz pole trójkąta o zadanych bokach, zapisanych w zmiennych `a`, `b` oraz `c`."
   ]
  },
  {
   "cell_type": "code",
   "execution_count": 11,
   "id": "05cfecd3",
   "metadata": {},
   "outputs": [],
   "source": [
    "a = 3\n",
    "b = 5\n",
    "c = 7"
   ]
  },
  {
   "cell_type": "markdown",
   "id": "ea8d318d",
   "metadata": {},
   "source": [
    "_Rozwiązanie umieść poniżej, po wywołaniu komórki odpowiedź powinna być zapisana w zmiennej `pole`. Możesz utworzyć dowolnie wiele zmiennych pomocniczych._"
   ]
  },
  {
   "cell_type": "code",
   "execution_count": 12,
   "id": "edb1d720",
   "metadata": {},
   "outputs": [],
   "source": [
    "import math\n",
    "p=(a+b+c)/2\n",
    "pole = math.sqrt(p*(p-a)*(p-b)*(p-c))"
   ]
  },
  {
   "cell_type": "markdown",
   "id": "6c39dac8",
   "metadata": {},
   "source": [
    "**Odpowiedź:** Pole wynosi"
   ]
  },
  {
   "cell_type": "code",
   "execution_count": 13,
   "id": "9fb73f1e",
   "metadata": {},
   "outputs": [
    {
     "data": {
      "text/plain": [
       "6.49519052838329"
      ]
     },
     "execution_count": 13,
     "metadata": {},
     "output_type": "execute_result"
    }
   ],
   "source": [
    "pole"
   ]
  },
  {
   "cell_type": "markdown",
   "id": "84b643fb",
   "metadata": {},
   "source": [
    "### Zadanie 3\n",
    "\n",
    "Dzień juliański to liczba dni od 1 stycznia 4713 r. p.n.e. według kalendarza juliańskiego. Jeśli dzień, którego szukamy jest w zmiennych $D$, $M$, $R$ oznaczających dzień, miesiąc i rok odpowiednio, dzień juliański $d$ wyliczymy ze wzorów\n",
    "\n",
    "$$ a = \\left\\lfloor\\frac{14 - M}{12}\\right\\rfloor, $$\n",
    "$$ y = R + 4800 - a,$$\n",
    "$$ m = M + 12a - 3,$$\n",
    "$$ d = D + \\left\\lfloor\\frac{153m+2}{5}\\right\\rfloor + 365y+ \\left\\lfloor\\frac{y}{4}\\right\\rfloor - \\left\\lfloor\\frac{y}{100}\\right\\rfloor + \\left\\lfloor\\frac{y}{400}\\right\\rfloor - 32045.$$\n",
    "\n",
    "#### Podpunkt a\n",
    "\n",
    "Oblicz dzień juliański odpowiadający dacie 29 maja 2015 roku (jest to data formalnego wydzielenia Wydziału Matematyki Politechniki Wrocławskiej z Wydziału Podstawowych Problemów Techniki)."
   ]
  },
  {
   "cell_type": "code",
   "execution_count": 15,
   "id": "4b340c58",
   "metadata": {},
   "outputs": [],
   "source": [
    "D1 = 29\n",
    "M1 = 5\n",
    "R1 = 2015"
   ]
  },
  {
   "cell_type": "markdown",
   "id": "5d443dd6",
   "metadata": {},
   "source": [
    "_Rozwiązanie umieść poniżej, po wywołaniu komórki odpowiedź powinna być zapisana w zmiennej `wmat`. Możesz utworzyć dowolnie wiele zmiennych pomocniczych._"
   ]
  },
  {
   "cell_type": "code",
   "execution_count": 16,
   "id": "f70e0636",
   "metadata": {},
   "outputs": [],
   "source": [
    "a=(14-M1)//12\n",
    "y=R1+4800-a\n",
    "m=M1+12*a-3\n",
    "\n",
    "wmat = D1+(153*m+2)//5+365*y+y//4-y//100+y//400-32045"
   ]
  },
  {
   "cell_type": "markdown",
   "id": "100bb098",
   "metadata": {},
   "source": [
    "**Odpowiedź:** Dzień juliański odpowiadający 29 maja 2015 roku to"
   ]
  },
  {
   "cell_type": "code",
   "execution_count": 17,
   "id": "9a03ae4e",
   "metadata": {},
   "outputs": [
    {
     "data": {
      "text/plain": [
       "2457172"
      ]
     },
     "execution_count": 17,
     "metadata": {},
     "output_type": "execute_result"
    }
   ],
   "source": [
    "wmat"
   ]
  },
  {
   "cell_type": "markdown",
   "id": "806c704a",
   "metadata": {},
   "source": [
    "#### Podpunkt b\n",
    "\n",
    "Wiedząc, że 1 stycznia 4713 r. p.n.e. był poniedziałek, oblicz, w jaki dzień tygodnia utworzono wydział matematyki (podpowiedź, przyda Ci się operacja reszty z dzielenia). Przyjmij następujące kodowanie dla dni tygodnia:\n",
    "\n",
    "| Numer  | Dzień         |\n",
    "| ------ | ------------- |\n",
    "| 1      | poniedziałek  |\n",
    "| 2      | wtorek        |\n",
    "| 3      | środa         |\n",
    "| 4      | czwartek      |\n",
    "| 5      | piątek        |\n",
    "| 6      | sobota        |\n",
    "| 7      | niedziela     |\n",
    "\n",
    "_Rozwiązanie umieść poniżej, po wywołaniu komórki odpowiedź powinna być zapisana w zmiennej `dzień`. Możesz utworzyć dowolnie wiele zmiennych pomocniczych._"
   ]
  },
  {
   "cell_type": "code",
   "execution_count": 18,
   "id": "ae0bd15a",
   "metadata": {},
   "outputs": [],
   "source": [
    "dzień = wmat%7+1"
   ]
  },
  {
   "cell_type": "markdown",
   "id": "95acdff7",
   "metadata": {},
   "source": [
    "**Odpowiedź:** 29 maja 2015 był dzień tygodnia o numerze"
   ]
  },
  {
   "cell_type": "code",
   "execution_count": 19,
   "id": "26da9e0f",
   "metadata": {},
   "outputs": [
    {
     "data": {
      "text/plain": [
       "5"
      ]
     },
     "execution_count": 19,
     "metadata": {},
     "output_type": "execute_result"
    }
   ],
   "source": [
    "dzień"
   ]
  },
  {
   "cell_type": "markdown",
   "id": "1c580492",
   "metadata": {},
   "source": [
    "#### Podpunkt c\n",
    "\n",
    "Kasia chce złożyć wypowiedzenie w swojej obecnej pracy. Obowiązuje ją miesięczny okres wypowiedzenia, który zgodnie z prawem kończy się w ostatni dzień miesiąca następującego po miesiącu złożenia wypowiedzenia. Jeśli Kasia złoży wypowiedzenie tuż po przyjściu do pracy dnia 26 października 2022 roku, ile dni będzie musiała przepracować? Kasia pracuje od poniedziałku do piątku, zatem do wyniku nie wliczaj dni weekendu."
   ]
  },
  {
   "cell_type": "code",
   "execution_count": 20,
   "id": "855c05a5",
   "metadata": {},
   "outputs": [],
   "source": [
    "D2 = 26\n",
    "M2 = 10\n",
    "R2 = 2022"
   ]
  },
  {
   "cell_type": "markdown",
   "id": "c0ba7671",
   "metadata": {},
   "source": [
    "_Rozwiązanie umieść poniżej, po wywołaniu komórki odpowiedź powinna być zapisana w zmiennej `dni_pracy`. Możesz utworzyć dowolnie wiele zmiennych pomocniczych._"
   ]
  },
  {
   "cell_type": "code",
   "execution_count": 23,
   "id": "2afa3a0e",
   "metadata": {},
   "outputs": [],
   "source": [
    "DW=30\n",
    "MW=M2%12+1\n",
    "RW=R2+M2//12\n",
    "\n",
    "a=(14-M2)//12\n",
    "y=R2+4800-a\n",
    "m=M2+12*a-3\n",
    "DniWypowiedzenia=D2+(153*m+2)//5+365*y+y//4-y//100+y//400-32045\n",
    "\n",
    "a=(14-MW)//12\n",
    "y=RW+4800-a\n",
    "m=MW+12*a-3\n",
    "DniKoncaPracy=DW+(153*m+2)//5+365*y+y//4-y//100+y//400-32045\n",
    "RoznicaDni=DniKoncaPracy-DniWypowiedzenia\n",
    "dni_pracy=RoznicaDni-2*(RoznicaDni/7)"
   ]
  },
  {
   "cell_type": "markdown",
   "id": "b3b994a5",
   "metadata": {},
   "source": [
    "**Odpowiedź:** Liczba dni, którą Kasia musi chodzić do pracy, to"
   ]
  },
  {
   "cell_type": "code",
   "execution_count": 24,
   "id": "61483c66",
   "metadata": {},
   "outputs": [
    {
     "data": {
      "text/plain": [
       "25.0"
      ]
     },
     "execution_count": 24,
     "metadata": {},
     "output_type": "execute_result"
    }
   ],
   "source": [
    "dni_pracy"
   ]
  },
  {
   "cell_type": "markdown",
   "id": "7a36393c",
   "metadata": {},
   "source": [
    "### Zadanie 4\n",
    "\n",
    "Do przybliżenia liczby $\\pi$ można użyć następującego równania, które pozwala je wyznaczyć z dokładnością do 18 miejsc po przecinku.\n",
    "\n",
    "$$ \\pi \\approx \\frac{80\\sqrt{15}(5^4+53\\sqrt{89})^\\frac{3}{2}}{3308(5^4+53\\sqrt{89})-3\\sqrt{89}}$$\n",
    "\n",
    "Zaimplementuj przybliżenie liczby $\\pi$ i zapisz do zmiennej `pi`."
   ]
  },
  {
   "cell_type": "code",
   "execution_count": 25,
   "id": "6981819f",
   "metadata": {},
   "outputs": [],
   "source": [
    "pi = (80*math.sqrt(15)*(5**4+53*math.sqrt(89))**(3/2))/(3308*(5**4+53*math.sqrt(89))-3*math.sqrt(89))"
   ]
  },
  {
   "cell_type": "markdown",
   "id": "1e6ca880",
   "metadata": {},
   "source": [
    "**Odpowiedź:** Przybliżenie wartości $\\pi$, to"
   ]
  },
  {
   "cell_type": "code",
   "execution_count": 26,
   "id": "1216872f",
   "metadata": {},
   "outputs": [
    {
     "data": {
      "text/plain": [
       "3.141592653589793"
      ]
     },
     "execution_count": 26,
     "metadata": {},
     "output_type": "execute_result"
    }
   ],
   "source": [
    "pi"
   ]
  },
  {
   "cell_type": "markdown",
   "id": "d410d629",
   "metadata": {},
   "source": [
    "### Zadanie 5\n",
    "\n",
    "Załóżmy, że zakładamy $n$-letnią lokatę na $p$ procent w skali roku z $m$ kapitalizacjami w ciągu roku. Oznacza to, że po dowolnym spośród $n\\cdot m$ okresów kapitalizacji, zarobimy $\\frac{p}{m}$ procent (bank zaokrągli kwotę w dół do pełnych groszy). Następnie, odliczony zostanie podatek od dochodów kapitałowych (19%). Kwota po odliczeniu podatku zostanie ponownie zaokrąglona do pełnych groszy w dół i doliczona do początkowego kapitału, który będzie „pracował” w kolejnym okresie kapitalizacji.\n",
    "\n",
    "##### Podpunkt a\n",
    "\n",
    "Dla uproszczenia pomińmy chwilowo dwa miejsca, w których zaokrąglamy kwoty w dół do pełnych groszy.\n",
    "\n",
    "Ile procent początkowej kwoty zarobi każda z poniższych lokat?\n",
    "\n",
    "  * dwuletnia na 2.3% w skali roku z rocznym okresem kapitalizacji,"
   ]
  },
  {
   "cell_type": "code",
   "execution_count": 43,
   "id": "c44ae9ef",
   "metadata": {},
   "outputs": [
    {
     "data": {
      "text/plain": [
       "3.760707689999987"
      ]
     },
     "execution_count": 43,
     "metadata": {},
     "output_type": "execute_result"
    }
   ],
   "source": [
    "n1 = 2\n",
    "p1 = 0.023\n",
    "m1 = 1\n",
    "\n",
    "procent1 = ((1+((p1/m1)*(1-0.19)))**(n1*m1))-1\n",
    "\n",
    "procent1*100"
   ]
  },
  {
   "cell_type": "markdown",
   "id": "bd3d25e6",
   "metadata": {},
   "source": [
    "   * dwuletnia na 2.25% w skali roku z półrocznym okresem kapitalizacji,\n"
   ]
  },
  {
   "cell_type": "code",
   "execution_count": 44,
   "id": "a408b4ea",
   "metadata": {},
   "outputs": [
    {
     "data": {
      "text/plain": [
       "3.695125955532297"
      ]
     },
     "execution_count": 44,
     "metadata": {},
     "output_type": "execute_result"
    }
   ],
   "source": [
    "n2 = 2\n",
    "p2 = 0.0225\n",
    "m2 = 2\n",
    "\n",
    "procent2 = ((1+((p2/m2)*(1-0.19)))**(n2*m2))-1\n",
    "\n",
    "procent2*100"
   ]
  },
  {
   "cell_type": "markdown",
   "id": "70b105c4",
   "metadata": {},
   "source": [
    "  * dwuletnia na 2.2% w skali roku z kwartalnym okresem kapitalizacji,"
   ]
  },
  {
   "cell_type": "code",
   "execution_count": 45,
   "id": "00634005",
   "metadata": {},
   "outputs": [
    {
     "data": {
      "text/plain": [
       "3.620069580759644"
      ]
     },
     "execution_count": 45,
     "metadata": {},
     "output_type": "execute_result"
    }
   ],
   "source": [
    "n3 = 2\n",
    "p3 = 0.022\n",
    "m3 = 4\n",
    "\n",
    "procent3 = ((1+((p3/m3)*(1-0.19)))**(n3*m3))-1\n",
    "\n",
    "procent3*100"
   ]
  },
  {
   "cell_type": "markdown",
   "id": "6a138679",
   "metadata": {},
   "source": [
    "  * dwuletnia na 2.15% w skali roku z dziennym okresem kapitalizacji (zakładamy, że lokata trwa dwa razy po 365 dni)."
   ]
  },
  {
   "cell_type": "code",
   "execution_count": 46,
   "id": "57ef45b9",
   "metadata": {},
   "outputs": [
    {
     "data": {
      "text/plain": [
       "3.5442808080063726"
      ]
     },
     "execution_count": 46,
     "metadata": {},
     "output_type": "execute_result"
    }
   ],
   "source": [
    "n4 = 2\n",
    "p4 = 0.0215\n",
    "m4 = 365\n",
    "\n",
    "procent4 = ((1+((p4/m4)*(1-0.19)))**(n4*m4))-1\n",
    "\n",
    "procent4*100"
   ]
  },
  {
   "cell_type": "markdown",
   "id": "aa65e2f2",
   "metadata": {},
   "source": [
    "#### Podpunkt b\n",
    "\n",
    "Tym razem nie pomijamy zaokrągleń w dół do pełnych groszy. Na lokatę wpłacamy 1000,00PLN. Ile złotych (i groszy) zarobią następujące lokaty?\n",
    "\n",
    "  * dwuletnia na 2.3% w skali roku z rocznym okresem kapitalizacji,"
   ]
  },
  {
   "cell_type": "code",
   "execution_count": 89,
   "id": "5e949408",
   "metadata": {},
   "outputs": [
    {
     "data": {
      "text/plain": [
       "37.6"
      ]
     },
     "execution_count": 89,
     "metadata": {},
     "output_type": "execute_result"
    }
   ],
   "source": [
    "n5 = 2\n",
    "p5 = 0.023\n",
    "m5 = 1\n",
    "kwota5 = 1000\n",
    "\n",
    "grosze5 = kwota5 * 100\n",
    "i = 1\n",
    "\n",
    "while i<=n5*m5:\n",
    "    procent5=(grosze5*(p5/m5))//1\n",
    "    procentminuspodatek5=(procent5*(1-0.19))//1\n",
    "    procentminuspodatek5\n",
    "    grosze5=grosze5+procentminuspodatek5\n",
    "    i=i+1\n",
    "\n",
    "kwotafinalna5=grosze5/100\n",
    "\n",
    "zysk5 = round(kwotafinalna5-kwota5, 2)\n",
    "zysk5"
   ]
  },
  {
   "cell_type": "markdown",
   "id": "ff762037",
   "metadata": {},
   "source": [
    "  *  dwuletnia na 2.25% w skali roku z półrocznym okresem kapitalizacji."
   ]
  },
  {
   "cell_type": "code",
   "execution_count": 90,
   "id": "7262a8ed",
   "metadata": {},
   "outputs": [
    {
     "data": {
      "text/plain": [
       "36.93"
      ]
     },
     "execution_count": 90,
     "metadata": {},
     "output_type": "execute_result"
    }
   ],
   "source": [
    "n6 = 2\n",
    "p6 = 0.0225\n",
    "m6 = 2\n",
    "kwota6 = 1000\n",
    "\n",
    "grosze6 = kwota6 * 100\n",
    "j = 1\n",
    "\n",
    "while j<=n6*m6:\n",
    "    procent6=(grosze6*(p6/m6))//1\n",
    "    procentminuspodatek6=(procent6*(1-0.19))//1\n",
    "    procentminuspodatek6\n",
    "    grosze6=grosze6+procentminuspodatek6\n",
    "    j=j+1\n",
    "\n",
    "kwotafinalna6=grosze6/100\n",
    "\n",
    "zysk6 = round(kwotafinalna6-kwota6, 2)\n",
    "zysk6"
   ]
  },
  {
   "cell_type": "markdown",
   "id": "d70f6fc2",
   "metadata": {},
   "source": [
    "<div style=\"text-align: right\"> Powodzenia!<br><i>Zespół kursu Wstęp do programowania</i></div>"
   ]
  }
 ],
 "metadata": {
  "kernelspec": {
   "display_name": "Python 3 (ipykernel)",
   "language": "python",
   "name": "python3"
  },
  "language_info": {
   "codemirror_mode": {
    "name": "ipython",
    "version": 3
   },
   "file_extension": ".py",
   "mimetype": "text/x-python",
   "name": "python",
   "nbconvert_exporter": "python",
   "pygments_lexer": "ipython3",
   "version": "3.9.12"
  }
 },
 "nbformat": 4,
 "nbformat_minor": 5
}
